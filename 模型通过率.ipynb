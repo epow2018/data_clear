{
 "cells": [
  {
   "cell_type": "code",
   "execution_count": 223,
   "metadata": {},
   "outputs": [
    {
     "name": "stdout",
     "output_type": "stream",
     "text": [
      "/Users/xl/Downloads/借啊/评分卡/模型监控\n"
     ]
    }
   ],
   "source": [
    "cd /Users/xl/Downloads/借啊/评分卡/模型监控"
   ]
  },
  {
   "cell_type": "code",
   "execution_count": 224,
   "metadata": {},
   "outputs": [],
   "source": [
    "from pymongo import MongoClient\n",
    "import pymongo\n",
    "import pandas as pd\n",
    "from datetime import datetime\n",
    "import time\n",
    "import matplotlib.pyplot as plt\n",
    "import numpy as np\n",
    "import pymysql.cursors"
   ]
  },
  {
   "cell_type": "markdown",
   "metadata": {},
   "source": [
    "# 链接数据库"
   ]
  },
  {
   "cell_type": "code",
   "execution_count": 308,
   "metadata": {},
   "outputs": [],
   "source": [
    "#建立MongoDB数据库连接\n",
    "client = MongoClient('dds-k1a855c22baf8ec41111-pub.mongodb.ap-southeast-5.rds.aliyuncs.com', 3717)\n",
    "db_auth = client.admin\n",
    "#账号和密码\n",
    "db_auth.authenticate('readonly','9skLyjBrvnqmCltkeqrazfqfoxc20')\n",
    "# 链接数据库\n",
    "db = client.uangtech_loan\n",
    "\n",
    "\n",
    "# 链接MySQL数据库连接\n",
    "dbsql=pymysql.connect(host=\"rr-k1as63vd06u3f2b61qo.mysql.ap-southeast-5.rds.aliyuncs.com\", \n",
    "user=\"cashday_pro_read\",password=\"Cashday_pro_read\",database=\"uangtech_loan\",port=3306, charset='utf8' )\n",
    "# 使用cursor()方法获取操作游标\n",
    "cur = dbsql.cursor()\n",
    "\n",
    "# SQL 查询语句\n",
    "sql_audit =\"select loan_money_date, audit_order_no, over_due_days ,status from t_loan_audit_order \\\n",
    "     where loan_money_date >'2018-11-05'\"\n",
    "\n",
    "sql_risk = \"select uid,loan_order_no, risk_order_no, status from t_risk_order  where create_time >'2018-11-05' \"\n",
    "\n",
    "\n",
    "# 执行SQL语句并获取结果\n",
    "cur.execute(sql_audit)\n",
    "results = cur.fetchall()\n",
    "\n",
    "cur.execute(sql_risk)\n",
    "res_risk = cur.fetchall()"
   ]
  },
  {
   "cell_type": "code",
   "execution_count": 309,
   "metadata": {},
   "outputs": [],
   "source": [
    "#提取\n",
    "df_audit = pd.DataFrame(list(results),columns= ['loan_money_date', 'audit_order_no','over_due_days','status'])\n",
    "\n",
    "df_risk = pd.DataFrame(list(res_risk), columns = ['uid','loan_order_no', 'risk_order_no','risk_status'])\n",
    "\n",
    "df_score = pd.DataFrame(list(db.t_sl_request.find({'createTime':{\n",
    "                                                          \"$gte\": datetime(2018,11,6)\n",
    "                                                          #,\"$lte\":datetime(2018,11,5)\n",
    "                                                                 }},\n",
    "                                                   {'_id':0,\"riskOrderNo\":1,\"finalCheckOutput.score\":1,\"createTime\":1,\n",
    "                                                    'clientTypeCheck.ruleMark':1,'finalCheckOutput.finalCheckMark':1}\n",
    "                                                  ,no_cursor_timeout = True)))"
   ]
  },
  {
   "cell_type": "markdown",
   "metadata": {},
   "source": [
    "# 数据清洗与整合"
   ]
  },
  {
   "cell_type": "code",
   "execution_count": 310,
   "metadata": {},
   "outputs": [],
   "source": [
    "#引擎数据清洗\n",
    "df_score['score'] = df_score['finalCheckOutput'].map(lambda s: list(s.values())[1]).astype(float)\n",
    "df_score['clientTypeCheck'] = df_score['finalCheckOutput'].map(lambda s: list(s.values())[0])\n",
    "\n",
    "# 找到所有进模型的进件 score > 0\n",
    "df_S = df_score[['clientTypeCheck','createTime','riskOrderNo','score']][df_score['score']>0]\n",
    "df_S['yq_time'] = df_S['createTime'].dt.date\n",
    "\n",
    "# 取过模型的数据且排序\n",
    "# df = df_scorecard[df_scorecard['score']>0].sort_values(by = 'createTime',ascending = False)\n",
    "\n",
    "#风控订单和订单join\n",
    "df_loan_due = pd.merge(df_risk, df_audit, left_on ='loan_order_no',  right_on = 'audit_order_no',how = 'left')\n",
    "\n",
    "#join引擎数据\n",
    "df_alow = pd.merge(df_S, df_loan_due, left_on = 'riskOrderNo', right_on = 'risk_order_no',how = 'left')\n",
    "df_alow = df_alow[df_alow['score']>0]"
   ]
  },
  {
   "cell_type": "markdown",
   "metadata": {},
   "source": [
    "# 每日通过率及分数分布"
   ]
  },
  {
   "cell_type": "code",
   "execution_count": 322,
   "metadata": {},
   "outputs": [
    {
     "data": {
      "text/html": [
       "<div>\n",
       "<style scoped>\n",
       "    .dataframe tbody tr th:only-of-type {\n",
       "        vertical-align: middle;\n",
       "    }\n",
       "\n",
       "    .dataframe tbody tr th {\n",
       "        vertical-align: top;\n",
       "    }\n",
       "\n",
       "    .dataframe thead th {\n",
       "        text-align: right;\n",
       "    }\n",
       "</style>\n",
       "<table border=\"1\" class=\"dataframe\">\n",
       "  <thead>\n",
       "    <tr style=\"text-align: right;\">\n",
       "      <th></th>\n",
       "      <th>决策时间</th>\n",
       "      <th>模型整体进件</th>\n",
       "      <th>模型整体通过</th>\n",
       "      <th>信审整体通过</th>\n",
       "      <th>模型451通过</th>\n",
       "      <th>简审451通过</th>\n",
       "    </tr>\n",
       "  </thead>\n",
       "  <tbody>\n",
       "    <tr>\n",
       "      <th>0</th>\n",
       "      <td>2018-11-28</td>\n",
       "      <td>32</td>\n",
       "      <td>16</td>\n",
       "      <td>12</td>\n",
       "      <td>8</td>\n",
       "      <td>5</td>\n",
       "    </tr>\n",
       "  </tbody>\n",
       "</table>\n",
       "</div>"
      ],
      "text/plain": [
       "         决策时间  模型整体进件  模型整体通过  信审整体通过  模型451通过  简审451通过\n",
       "0  2018-11-28      32      16      12        8        5"
      ]
     },
     "execution_count": 322,
     "metadata": {},
     "output_type": "execute_result"
    }
   ],
   "source": [
    "time = '2018-11-28'\n",
    "\n",
    "# 模型整体进件\n",
    "mod_all =  df_alow[df_alow['yq_time'].map(str) == time].shape[0]\n",
    " \n",
    "\n",
    "# 模型整体通过\n",
    "mod_390 = df_alow[(df_alow['yq_time'].map(str) == time)&(df_alow['score']>418)].shape[0]\n",
    "##信审整体通过 # risk_status 3：通过； 4：拒绝\n",
    "xs_390 = df_alow[(df_alow['yq_time'].map(str) == time)&(df_alow['score']>418)&(df_alow['risk_status']!=4)].shape[0]\n",
    "\n",
    "\n",
    "# 模型451通过\n",
    "mod_451 = df_alow[(df_alow['yq_time'].map(str) == time)&(df_alow['score']>451)].shape[0]\n",
    "##简审451通过\n",
    "xs_451 = df_alow[(df_alow['yq_time'].map(str) == time)&(df_alow['score']>451)&(df_alow['risk_status']!=4)].shape[0]\n",
    "\n",
    "#每日模型通过情况和信审通过情况\n",
    "pd.DataFrame(data = [[time, mod_all, mod_390 , xs_390, mod_451, xs_451]],\n",
    "             columns=['决策时间','模型整体进件', '模型整体通过','信审整体通过','模型451通过','简审451通过'])"
   ]
  },
  {
   "cell_type": "markdown",
   "metadata": {},
   "source": [
    "# 每日贷后表现"
   ]
  },
  {
   "cell_type": "code",
   "execution_count": 313,
   "metadata": {},
   "outputs": [
    {
     "name": "stderr",
     "output_type": "stream",
     "text": [
      "/Users/xl/anaconda3/lib/python3.6/site-packages/ipykernel_launcher.py:4: SettingWithCopyWarning: \n",
      "A value is trying to be set on a copy of a slice from a DataFrame.\n",
      "Try using .loc[row_indexer,col_indexer] = value instead\n",
      "\n",
      "See the caveats in the documentation: http://pandas.pydata.org/pandas-docs/stable/indexing.html#indexing-view-versus-copy\n",
      "  after removing the cwd from sys.path.\n"
     ]
    }
   ],
   "source": [
    "# 找到status为4（已完成）、6（已逾期）的所有进件\n",
    "df_check = df_alow[(df_alow['createTime']>'2018-11-6 08:00:00')&(df_alow['status'].isin([4,6]))]\n",
    "\n",
    "df_check['YN_date'] = df_check['loan_money_date'].dt.date"
   ]
  },
  {
   "cell_type": "code",
   "execution_count": 315,
   "metadata": {},
   "outputs": [
    {
     "data": {
      "text/html": [
       "<div>\n",
       "<style scoped>\n",
       "    .dataframe tbody tr th:only-of-type {\n",
       "        vertical-align: middle;\n",
       "    }\n",
       "\n",
       "    .dataframe tbody tr th {\n",
       "        vertical-align: top;\n",
       "    }\n",
       "\n",
       "    .dataframe thead th {\n",
       "        text-align: right;\n",
       "    }\n",
       "</style>\n",
       "<table border=\"1\" class=\"dataframe\">\n",
       "  <thead>\n",
       "    <tr style=\"text-align: right;\">\n",
       "      <th></th>\n",
       "      <th>放款日期</th>\n",
       "      <th>status</th>\n",
       "      <th>over_due_days</th>\n",
       "      <th>全体个数</th>\n",
       "      <th>status</th>\n",
       "      <th>over_due_days</th>\n",
       "      <th>451以上个数</th>\n",
       "    </tr>\n",
       "  </thead>\n",
       "  <tbody>\n",
       "    <tr>\n",
       "      <th>0</th>\n",
       "      <td>2018-11-14</td>\n",
       "      <td>4.0</td>\n",
       "      <td>0.0</td>\n",
       "      <td>36</td>\n",
       "      <td>4.0</td>\n",
       "      <td>0.0</td>\n",
       "      <td>24</td>\n",
       "    </tr>\n",
       "    <tr>\n",
       "      <th>1</th>\n",
       "      <td>NaN</td>\n",
       "      <td>4.0</td>\n",
       "      <td>1.0</td>\n",
       "      <td>1</td>\n",
       "      <td>4.0</td>\n",
       "      <td>1.0</td>\n",
       "      <td>1</td>\n",
       "    </tr>\n",
       "    <tr>\n",
       "      <th>2</th>\n",
       "      <td>NaN</td>\n",
       "      <td>6.0</td>\n",
       "      <td>1.0</td>\n",
       "      <td>25</td>\n",
       "      <td>6.0</td>\n",
       "      <td>1.0</td>\n",
       "      <td>20</td>\n",
       "    </tr>\n",
       "  </tbody>\n",
       "</table>\n",
       "</div>"
      ],
      "text/plain": [
       "         放款日期  status  over_due_days  全体个数  status  over_due_days  451以上个数\n",
       "0  2018-11-14     4.0            0.0    36     4.0            0.0       24\n",
       "1         NaN     4.0            1.0     1     4.0            1.0        1\n",
       "2         NaN     6.0            1.0    25     6.0            1.0       20"
      ]
     },
     "execution_count": 315,
     "metadata": {},
     "output_type": "execute_result"
    }
   ],
   "source": [
    "Time = '2018-11-14'\n",
    "TIME = pd.DataFrame([Time],columns=['放款日期'])\n",
    "\n",
    "# Time 全部 status为4（已完成）、6（已逾期）\n",
    "loan_all = df_check[df_check['YN_date'].map(str) == Time ][['riskOrderNo','status','over_due_days']]\n",
    "l_all = loan_all.groupby(['status','over_due_days']).count().reset_index()\n",
    "l_all.columns = ['status','over_due_days','全体个数']\n",
    "\n",
    "#Time 451 status为4（已完成）、6（已逾期）\n",
    "loan_451 = df_check[(df_check['YN_date'].map(str) == Time )&(df_check['score']>451)]\\\n",
    "          [['riskOrderNo','status','over_due_days']]\n",
    "l_451 = loan_451.groupby(['status','over_due_days']).count().reset_index()\n",
    "l_451.columns = ['status','over_due_days','451以上个数']\n",
    "\n",
    "# 贷后表现——整体\n",
    "pd.concat([TIME,l_all,l_451],1) "
   ]
  },
  {
   "cell_type": "code",
   "execution_count": 316,
   "metadata": {},
   "outputs": [],
   "source": [
    "# 引入新户\n",
    "df_new = pd.read_excel('/Users/xl/Downloads/借啊/评分卡/二期评分卡—新户/1106-1118新户.xlsx')\n",
    "df_check_new = pd.merge(df_check, df_new,left_on = 'risk_order_no',right_on = 'risk_order_no',how = 'inner')\n",
    "df_check_new['YN_date'] = df_check_new['loan_money_date_y'].dt.date"
   ]
  },
  {
   "cell_type": "code",
   "execution_count": 337,
   "metadata": {},
   "outputs": [
    {
     "data": {
      "text/html": [
       "<div>\n",
       "<style scoped>\n",
       "    .dataframe tbody tr th:only-of-type {\n",
       "        vertical-align: middle;\n",
       "    }\n",
       "\n",
       "    .dataframe tbody tr th {\n",
       "        vertical-align: top;\n",
       "    }\n",
       "\n",
       "    .dataframe thead th {\n",
       "        text-align: right;\n",
       "    }\n",
       "</style>\n",
       "<table border=\"1\" class=\"dataframe\">\n",
       "  <thead>\n",
       "    <tr style=\"text-align: right;\">\n",
       "      <th></th>\n",
       "      <th>放款日期</th>\n",
       "      <th>status_x</th>\n",
       "      <th>over_due_days</th>\n",
       "      <th>riskOrderNo</th>\n",
       "      <th>sum_all</th>\n",
       "      <th>status_x</th>\n",
       "      <th>over_due_days</th>\n",
       "      <th>riskOrderNo</th>\n",
       "      <th>sum_451</th>\n",
       "    </tr>\n",
       "  </thead>\n",
       "  <tbody>\n",
       "    <tr>\n",
       "      <th>0</th>\n",
       "      <td>2018-11-12</td>\n",
       "      <td>4.0</td>\n",
       "      <td>0.0</td>\n",
       "      <td>25</td>\n",
       "      <td>34.0</td>\n",
       "      <td>4.0</td>\n",
       "      <td>0.0</td>\n",
       "      <td>15</td>\n",
       "      <td>23.0</td>\n",
       "    </tr>\n",
       "    <tr>\n",
       "      <th>1</th>\n",
       "      <td>NaN</td>\n",
       "      <td>4.0</td>\n",
       "      <td>1.0</td>\n",
       "      <td>2</td>\n",
       "      <td>NaN</td>\n",
       "      <td>4.0</td>\n",
       "      <td>1.0</td>\n",
       "      <td>1</td>\n",
       "      <td>NaN</td>\n",
       "    </tr>\n",
       "    <tr>\n",
       "      <th>2</th>\n",
       "      <td>NaN</td>\n",
       "      <td>6.0</td>\n",
       "      <td>3.0</td>\n",
       "      <td>7</td>\n",
       "      <td>NaN</td>\n",
       "      <td>6.0</td>\n",
       "      <td>3.0</td>\n",
       "      <td>7</td>\n",
       "      <td>NaN</td>\n",
       "    </tr>\n",
       "  </tbody>\n",
       "</table>\n",
       "</div>"
      ],
      "text/plain": [
       "         放款日期  status_x  over_due_days  riskOrderNo  sum_all  status_x  \\\n",
       "0  2018-11-12       4.0            0.0           25     34.0       4.0   \n",
       "1         NaN       4.0            1.0            2      NaN       4.0   \n",
       "2         NaN       6.0            3.0            7      NaN       6.0   \n",
       "\n",
       "   over_due_days  riskOrderNo  sum_451  \n",
       "0            0.0           15     23.0  \n",
       "1            1.0            1      NaN  \n",
       "2            3.0            7      NaN  "
      ]
     },
     "execution_count": 337,
     "metadata": {},
     "output_type": "execute_result"
    }
   ],
   "source": [
    "t_new = '2018-11-12'\n",
    "T = pd.DataFrame([t_new],columns=['放款日期'])\n",
    "\n",
    "# 新户总体情况\n",
    "loan_new_all = df_check_new[(df_check_new['YN_date'].map(str) == t_new)][['riskOrderNo','status_x','over_due_days']]\n",
    "l_new_all = loan_new_all.groupby(['status_x','over_due_days']).count().reset_index()\n",
    "l_new_all.loc[0,'sum_all']=l_new_all['riskOrderNo'].sum()\n",
    "\n",
    "\n",
    "# 2018-11-10 新户451情况\n",
    "loan_new_451 = df_check_new[(df_check_new['YN_date'].map(str) == t_new) & (df_check_new['score']>451)&\\\n",
    "                            (df_check_new['借款次数']==1)][['riskOrderNo','status_x','over_due_days']]\n",
    "l_new_451 = loan_new_451.groupby(['status_x','over_due_days']).count().reset_index()\n",
    "l_new_451.loc[0,'sum_451']=l_new_451['riskOrderNo'].sum()\n",
    "\n",
    "\n",
    "#贷后表现——新、老户\n",
    "pd.concat([T,l_new_all,l_new_451],1) "
   ]
  },
  {
   "cell_type": "markdown",
   "metadata": {},
   "source": [
    "# 分数分布"
   ]
  },
  {
   "cell_type": "code",
   "execution_count": 335,
   "metadata": {},
   "outputs": [],
   "source": [
    "df_sc = df_alow.copy()\n",
    "df_sc['bin'] = pd.cut(df_sc['score'],[300,360,380,400,420,450,500,600] ).map(str).sort_values()\n",
    "df_sc = df_sc[df_sc['createTime'].dt.date.map(str) == '2018-11-28']"
   ]
  },
  {
   "cell_type": "code",
   "execution_count": 336,
   "metadata": {},
   "outputs": [
    {
     "data": {
      "text/plain": [
       "Text(0.5,1,'2018-11-27')"
      ]
     },
     "execution_count": 336,
     "metadata": {},
     "output_type": "execute_result"
    },
    {
     "data": {
      "image/png": "[encoded data removed]",
      "text/plain": [
       "<matplotlib.figure.Figure at 0x118ae4a20>"
      ]
     },
     "metadata": {},
     "output_type": "display_data"
    }
   ],
   "source": [
    "plot_score = df_sc.groupby('bin').count().reset_index()\n",
    "plt.bar(plot_score['bin'],plot_score['createTime'])\n",
    "plt.title('2018-11-27')"
   ]
  },
  {
   "cell_type": "code",
   "execution_count": null,
   "metadata": {},
   "outputs": [],
   "source": []
  }
 ],
 "metadata": {
  "kernelspec": {
   "display_name": "Python 3",
   "language": "python",
   "name": "python3"
  },
  "language_info": {
   "codemirror_mode": {
    "name": "ipython",
    "version": 3
   },
   "file_extension": ".py",
   "mimetype": "text/x-python",
   "name": "python",
   "nbconvert_exporter": "python",
   "pygments_lexer": "ipython3",
   "version": "3.6.4"
  },
  "toc": {
   "base_numbering": 1,
   "nav_menu": {},
   "number_sections": true,
   "sideBar": true,
   "skip_h1_title": false,
   "title_cell": "Table of Contents",
   "title_sidebar": "Contents",
   "toc_cell": false,
   "toc_position": {},
   "toc_section_display": true,
   "toc_window_display": false
  }
 },
 "nbformat": 4,
 "nbformat_minor": 2
}
