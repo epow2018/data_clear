{
 "cells": [
  {
   "cell_type": "code",
   "execution_count": 1179,
   "metadata": {},
   "outputs": [
    {
     "name": "stdout",
     "output_type": "stream",
     "text": [
      "/Users/xl/Downloads/借啊/评分卡/1023\n"
     ]
    }
   ],
   "source": [
    "cd /Users/xl/Downloads/借啊/评分卡/1023"
   ]
  },
  {
   "cell_type": "code",
   "execution_count": 1180,
   "metadata": {},
   "outputs": [],
   "source": [
    "from pymongo import MongoClient\n",
    "import pymongo\n",
    "import pandas as pd\n",
    "from datetime import datetime\n",
    "import time\n",
    "import matplotlib.pyplot as plt\n",
    "import numpy as np"
   ]
  },
  {
   "cell_type": "code",
   "execution_count": 1181,
   "metadata": {},
   "outputs": [],
   "source": [
    "#建立MongoDB数据库连接\n",
    "client = MongoClient('dds-k1a855c22baf8ec41111-pub.mongodb.ap-southeast-5.rds.aliyuncs.com', 3717)\n",
    "db_auth = client.admin\n",
    "#账号和密码\n",
    "db_auth.authenticate('readonly','9skLyjBrvnqmCltkeqrazfqfoxc20')\n",
    "# 链接数据库\n",
    "db = client.uangtech_loan"
   ]
  },
  {
   "cell_type": "code",
   "execution_count": null,
   "metadata": {},
   "outputs": [],
   "source": [
    "#连接mysql\n",
    "import pymysql.cursors\n",
    "# 打开数据库连接\n",
    "dbsql=pymysql.connect(host=\"rr-k1as63vd06u3f2b61qo.mysql.ap-southeast-5.rds.aliyuncs.com\", \n",
    "user=\"cashday_pro_read\",password=\"Cashday_pro_read\",database=\"uangtech_loan\",port=3306, charset='utf8' )\n",
    "# 使用cursor()方法获取操作游标\n",
    "cur = dbsql.cursor()"
   ]
  },
  {
   "cell_type": "code",
   "execution_count": null,
   "metadata": {},
   "outputs": [],
   "source": [
    "# SQL 查询语句\n",
    "sql=\"select loan_money_date, audit_order_no, over_due_days ,status from \\\n",
    "     t_loan_audit_order where loan_money_date >'2018-11-05'\"\n",
    "# 执行SQL语句\n",
    "cur.execute(sql)\n",
    "# 获取所有记录列表\n",
    "results = cur.fetchall()\n",
    "\n",
    "df_audit = pd.DataFrame(list(results),columns= ['loan_money_date', 'audit_order_no','over_due_days','status'])\n",
    "\n",
    "sql_risk = \"select uid,loan_order_no, risk_order_no \\\n",
    "            from t_risk_order  where create_time >'2018-11-05' \"\n",
    "\n",
    "cur.execute(sql_risk)\n",
    "res_risk = cur.fetchall()\n",
    "\n",
    "df_risk = pd.DataFrame(list(res_risk), columns = ['uid','loan_order_no', 'risk_order_no'])"
   ]
  },
  {
   "cell_type": "code",
   "execution_count": null,
   "metadata": {},
   "outputs": [],
   "source": [
    "df_loan_due = pd.merge(df_risk, df_audit, left_on ='loan_order_no',  right_on = 'audit_order_no',how = 'inner')"
   ]
  },
  {
   "cell_type": "code",
   "execution_count": null,
   "metadata": {},
   "outputs": [],
   "source": [
    "df_loan_due.head(2)"
   ]
  },
  {
   "cell_type": "markdown",
   "metadata": {},
   "source": [
    "# 引擎变量获取"
   ]
  },
  {
   "cell_type": "code",
   "execution_count": 4,
   "metadata": {},
   "outputs": [],
   "source": [
    "df_yq = pd.DataFrame(list(db.t_sl_request.find({'createTime':{\n",
    "                                                          \"$gte\": datetime(2018,11,6)\n",
    "                                                          #,\"$lte\":datetime(2018,11,5)\n",
    "                                                                 }},\n",
    "                                                   {'_id':0,\"riskOrderNo\":1,\"finalCheckOutput.score\":1,\"createTime\":1,\n",
    "'basicInfo.idNumber':1,'basicInfo.age':1,'basicInfo.city':1,'basicInfo.education':1,'basicInfo.marriageStatus':1,\n",
    "'basicInfo.homeAddress':1,'basicInfo.sex':1,'basicInfo.phoneNumber':1,'clientTypeCheck.clientType':1,\n",
    "'clientTypeCheck.sourceMark':1,'clientTypeCheck.applyTimes':1,'clientTypeCheck.applyTimesE':1,\n",
    "'clientTypeCheck.applyTimesEBackIn30D':1,'clientTypeCheck.applyTimesEBackIn60D':1,\n",
    "'clientTypeCheck.applyTimesEBackIn90D':1,'clientTypeCheck.applyTimesEBackIn180D':1,'clientTypeCheck.loanTimes':1,\n",
    "'clientTypeCheck.loanTimesBackIn30D':1,'clientTypeCheck.loanTimesBackIn60D':1,'clientTypeCheck.loanTimesBackIn90D':1,\n",
    "'clientTypeCheck.loanTimesBackIn180D':1,'clientTypeCheck.overdueDays':1,'video.videoLength':1,'workInfo.companyName':1,\n",
    "'workInfo.industry':1,'workInfo.companyAddress':1,'deviceInfo.cellphoneIP':1,'deviceInfo.totalAPP':1,\n",
    "'deviceInfo.loanAPP':1,'deviceInfo.shoppingAPP':1,'deviceInfo.totalContactTel':1,'deviceInfo.totalAPPContactTel':1,\n",
    "'deviceInfo.device':1,'deviceInfo.ipSumBackIn14D':1,'deviceInfo.ipSumBackIn30D':1,\n",
    "'deviceInfo.ipSumBackIn90D':1,'deviceInfo.ipSumBackIn180D':1,'callRecord.totalCall.totalCallBackIn7D':1,\n",
    "'callRecord.totalCall.totalCallBackIn14D':1,'callRecord.totalCall.totalCallBackIn30D':1,'callRecord.totalCall.totalCallBackIn60D':1,\n",
    "'callRecord.totalCall.totalCallBackIn90D':1,'callRecord.callOut.callOutBackIn7D':1,'callRecord.callOut.callOutBackIn14D':1,\n",
    "'callRecord.callOut.callOutBackIn30D':1,\n",
    "'callRecord.callOut.callOutBackIn60D':1,'callRecord.callOut.callOutBackIn90D':1,'callRecord.callIn.callInBackIn7D':1,\n",
    "'callRecord.callIn.callInBackIn14D':1,'callRecord.callIn.callInBackIn30D':1,'callRecord.callIn.callInBackIn60D':1,\n",
    "'callRecord.callIn.callInBackIn90D':1,'callRecord.callNo.callNoBackIn7D':1,'callRecord.callNo.callNoBackIn14D':1,\n",
    "'callRecord.callNo.callNoBackIn30D':1,'callRecord.callNo.callNoBackIn60D':1,'callRecord.callNo.callNoBackIn90D':1,\n",
    "'callRecord.callAPPContact.callAPPContactBackIn7D':1,\n",
    "'callRecord.callAPPContact.callAPPContactBackIn14D':1,\n",
    "'callRecord.callAPPContact.callAPPContactBackIn30D':1,\n",
    "'callRecord.callAPPContact.callAPPContactBackIn60D':1,\n",
    "'callRecord.callAPPContact.callAPPContactBackIn90D':1,\n",
    "'callRecord.callAPPContact.timeIntervalFirstAPPContactBackIn7D':1,\n",
    "'callRecord.callAPPContact.timeIntervalFirstAPPContactBackIn14D':1,\n",
    "'callRecord.callAPPContact.timeIntervalFirstAPPContactBackIn30D':1,\n",
    "'callRecord.callAPPContact.timeIntervalFirstAPPContactBackIn60D':1,\n",
    "'callRecord.callAPPContact.timeIntervalFirstAPPContactBackIn90D':1,\n",
    "'callRecord.callContact.callContactBackIn7D':1,\n",
    "'callRecord.callContact.callContactBackIn14D':1,\n",
    "'callRecord.callContact.callContactBackIn30D':1,\n",
    "'callRecord.callContact.callContactBackIn60D':1,\n",
    "'callRecord.callContact.callContactBackIn90D':1,\n",
    "'sms.totalSMS.totalSMSBackIn7D':1,\n",
    "'sms.totalSMS.totalSMSBackIn14D':1,'sms.totalSMS.totalSMSBackIn30D':1,\n",
    "'sms.totalSMS.totalSMSBackIn30PlusD':1,\n",
    "'sms.totalSMS.totalSMSTelBackIn7D':1,'sms.totalSMS.totalSMSTelBackIn14D':1,\n",
    "'sms.totalSMS.totalSMSTelBackIn30D':1,'sms.totalSMS.totalSMSTelBackIn30PlusD':1,\n",
    "'sms.contact.contactSMSBackIn7D':1,'sms.contact.contactSMSBackIn14D':1,\n",
    "'sms.contact.contactSMSBackIn30D':1,'sms.contact.contactSMSBackIn30PlusD':1,\n",
    "'sms.APPContact.APPContactRecordSMSBackIn7D':1,'sms.APPContact.APPContactRecordSMSBackIn14D':1,\n",
    "'sms.APPContact.APPContactRecordSMSBackIn30D':1,'sms.APPContact.APPContactRecordSMSBackIn30PlusD':1,\n",
    "'sms.callRecordSMS.callRecordSMSBackIn7D':1,\n",
    "'sms.callRecordSMS.callRecordSMSBackIn14D':1,'sms.callRecordSMS.callRecordSMSBackIn30D':1,\n",
    "'sms.callRecordSMS.callRecordSMSBackIn30PlusD':1,'deviceInfoRiskCheck.sMSCheck.totalRefusal':1,\n",
    "'deviceInfoRiskCheck.sMSCheck.totalPass':1,\n",
    "'deviceInfoRiskCheck.sMSCheck.totalSMSCheck':1,'callRecordCheck.callRecordsIn15D':1,\n",
    "'callRecordCheck.callPersonsIn15D':1,'callRecordCheck.callRecordsIn7D':1,\n",
    "'callRecordCheck.callPersonsIn7D':1,'aPPCheck.gapTime':1,\n",
    "'behaviorAntiFraudCheck.registerTime':1,'behaviorAntiFraudCheck.registerTimeC':1,\n",
    "'behaviorAntiFraudCheck.applyTime':1,'behaviorAntiFraudCheck.applyTimeC':1,\n",
    "'behaviorAntiFraudCheck.lackOfSign':1,'deviceAntiFraudCheck.iMEICount':1,\n",
    "'deviceAntiFraudCheck.registerCountSameTimeIP':1,\n",
    "'deviceAntiFraudCheck.registerCountSameTimeDevice':1,\n",
    "'deviceAntiFraudCheck.registerCountSameTimeMAC':1,\n",
    "'whitelistMatch.whitelistMark':1,\n",
    "'admittanceStrategyCheck.internalBlacklistMatchResult':1,\n",
    "'admittanceStrategyCheck.contactMatchInternalBlacklistResult':1,\n",
    "'admittanceStrategyCheck.admittanceCheckResult':1,\n",
    "'admittanceStrategyCheck.admittanceCheckRefuseReason':1,\n",
    "'admittanceStrategyCheck.admittanceCheckMark':1,\n",
    "'internalMatch.companyTelMatchCount':1,\n",
    "'internalMatch.companyNameMatchCount':1,\n",
    "'internalMatch.companyTelMatchCompanyNameInconsistencyCount':1,\n",
    "'internalMatch.companyTelMatchOverdueCount':1,\n",
    "'internalMatch.borrowerTelMatchContactlistCountIn7D':1,\n",
    "'internalMatch.companyTelMatchCountIn30Min':1,\n",
    "'internalMatch.borrowerTelMatchContactlistOverdueCount':1,\n",
    "'contactsInfo.contactTelRanking':1,'finalCheckOutput.score':1,\n",
    "'productTypeCheck.productType':1,'antiFraudCheck.antiFraudMark':1,\n",
    "'multiPlatformCheck.multiPlatform7D':1,'multiPlatformCheck.multiPlatform14D':1,\n",
    "'multiPlatformCheck.multiPlatform21D':1,'multiPlatformCheck.multiPlatform30D':1,\n",
    "'multiPlatformCheck.multiPlatform60D':1,'multiPlatformCheck.multiPlatform90D':1,\n",
    "'multiPlatformCheck.multiPlatformAbove90D':1,'timeInterval.apply.firstApplyBetweenRecentBackIn30D':1,\n",
    "'timeInterval.apply.firstApplyBetweenRecentBackIn60D':1,\n",
    "'timeInterval.apply.firstApplyBetweenRecentBackIn90D':1,\n",
    "'timeInterval.apply.firstApplyBetweenRecentBackIn180D':1,'timeInterval.apply.lastApplyBetweenRecentBackIn30D':1,\n",
    "'timeInterval.apply.lastApplyBetweenRecentBackIn60D':1,'timeInterval.apply.lastApplyBetweenRecentBackIn90D':1,\n",
    "'timeInterval.apply.lastApplyBetweenRecentBackIn180D':1,'timeInterval.apply.averageApplyTimeIntervalBackIn30D':1,\n",
    "'timeInterval.apply.averageApplyTimeIntervalBackIn60D':1,'timeInterval.apply.averageApplyTimeIntervalBackIn90D':1,\n",
    "'timeInterval.apply.averageApplyTimeIntervalBackIn180D':1,\n",
    "'loan.firstLoanBetweenRecentBackIn30D':1,'loan.firstLoanBetweenRecentBackIn60D':1,\n",
    "'loan.firstLoanBetweenRecentBackIn90D':1,'loan.firstLoanBetweenRecentBackIn180D':1,'loan.lastLoanBetweenRecentBackIn30D':1,\n",
    "'loan.lastLoanBetweenRecentBackIn60D':1,'loan.lastLoanBetweenRecentBackIn90D':1,\n",
    "'loan.lastLoanBetweenRecentBackIn180D':1,'loan.averageLoanTimeIntervalBackIn30D':1,\n",
    "'loan.averageLoanTimeIntervalBackIn60D':1,\n",
    "'loan.averageLoanTimeIntervalBackIn90D':1,'loan.averageLoanTimeIntervalBackIn180D':1\n",
    "                                                   }\n",
    "                                                  ,no_cursor_timeout = True)))"
   ]
  },
  {
   "cell_type": "code",
   "execution_count": 5,
   "metadata": {},
   "outputs": [
    {
     "data": {
      "text/plain": [
       "Index(['admittanceStrategyCheck', 'antiFraudCheck', 'basicInfo',\n",
       "       'behaviorAntiFraudCheck', 'callRecord', 'clientTypeCheck',\n",
       "       'contactsInfo', 'createTime', 'deviceAntiFraudCheck', 'deviceInfo',\n",
       "       'deviceInfoRiskCheck', 'finalCheckOutput', 'internalMatch',\n",
       "       'multiPlatformCheck', 'productTypeCheck', 'riskOrderNo', 'sms',\n",
       "       'timeInterval', 'video', 'whitelistMatch', 'workInfo'],\n",
       "      dtype='object')"
      ]
     },
     "execution_count": 5,
     "metadata": {},
     "output_type": "execute_result"
    }
   ],
   "source": [
    "df_yq.columns"
   ]
  },
  {
   "cell_type": "code",
   "execution_count": 393,
   "metadata": {},
   "outputs": [
    {
     "data": {
      "text/plain": [
       "{'APPContact': {'APPContactRecordSMSBackIn14D': 0,\n",
       "  'APPContactRecordSMSBackIn30D': 0,\n",
       "  'APPContactRecordSMSBackIn30PlusD': 0,\n",
       "  'APPContactRecordSMSBackIn7D': 0},\n",
       " 'callRecordSMS': {'callRecordSMSBackIn14D': 0,\n",
       "  'callRecordSMSBackIn30D': 0,\n",
       "  'callRecordSMSBackIn30PlusD': 0,\n",
       "  'callRecordSMSBackIn7D': 0},\n",
       " 'contact': {'contactSMSBackIn14D': 0,\n",
       "  'contactSMSBackIn30D': 3,\n",
       "  'contactSMSBackIn30PlusD': 0,\n",
       "  'contactSMSBackIn7D': 0},\n",
       " 'totalSMS': {'totalSMSBackIn14D': 11,\n",
       "  'totalSMSBackIn30D': 15,\n",
       "  'totalSMSBackIn30PlusD': 0,\n",
       "  'totalSMSBackIn7D': 5,\n",
       "  'totalSMSTelBackIn14D': 4,\n",
       "  'totalSMSTelBackIn30D': 6,\n",
       "  'totalSMSTelBackIn30PlusD': 0,\n",
       "  'totalSMSTelBackIn7D': 3}}"
      ]
     },
     "execution_count": 393,
     "metadata": {},
     "output_type": "execute_result"
    }
   ],
   "source": [
    "list(df_yq['sms'])[0]"
   ]
  },
  {
   "cell_type": "markdown",
   "metadata": {},
   "source": [
    "# 引擎数据整理"
   ]
  },
  {
   "cell_type": "code",
   "execution_count": 385,
   "metadata": {},
   "outputs": [],
   "source": [
    "def sp_se(serise):\n",
    "    def proce_data(info):\n",
    "    #info = json.loads(data.replace(\"'\", '\"'))\n",
    "        tem_dict = {}\n",
    "        for k in info:\n",
    "            tem_dict.update(info[k])\n",
    "        return tem_dict\n",
    "    a = serise.map(lambda x:proce_data(x)).tolist()\n",
    "    return pd.DataFrame(a)\n",
    "\n",
    "def sres_sp(serise):\n",
    "    df = pd.DataFrame(columns = serise[0].keys(),index = range(len(serise)))\n",
    "    for i in range(len(serise)):\n",
    "        df.loc[i] = list(serise[i].values())\n",
    "    return df\n",
    "\n",
    "def contac_info(serise):\n",
    "    df = pd.DataFrame(columns= ['con_1','con_2','con_3','con_4'],index = range(len(serise)))\n",
    "    for i in range(len(serise)):\n",
    "        df.loc[i] = list(pd.DataFrame(serise[i]).T.loc['contactTelRanking'])\n",
    "    return df\n",
    "# df_yq['riskOrderNo'][36565] 'FEK2018111511050836431407'\n",
    "\n",
    "def admittanceStrategyCheck(serise):\n",
    "    df = pd.DataFrame(columns= ['internalBlacklistMatchResult','contactMatchInternalBlacklistResult', \n",
    "                                'admittanceCheckResult','admittanceCheckRefuseReason'],index = range(len(serise)))\n",
    "    for i in range(len(serise)):\n",
    "        df.loc[i] = [list(serise[i].values())[0],list(serise[i].values())[1],\n",
    "                     list(serise[i].values())[2],list(serise[i].values())[3]]\n",
    "\n",
    "    return df"
   ]
  },
  {
   "cell_type": "code",
   "execution_count": 387,
   "metadata": {},
   "outputs": [],
   "source": [
    "# 用contac_info()：'contac_info','contactsInfo' # df_yq['riskOrderNo'][36565] 'FEK2018111511050836431407'\n",
    "\n",
    "# 直接用： 'createTime','riskOrderNo',\n",
    "\n",
    "# 不用：  'finalCheckOutput'\n",
    "\n",
    "# 用sres_sp()： 'video', 'basicInfo',’behaviorAntiFraudCheck‘,'internalMatch','multiPlatformCheck','workInfo',\n",
    "                #'deviceInfo','productTypeCheck','deviceAntiFraudCheck'\n",
    "\n",
    "# 用sq_se():  'timeInterval', 'callRecord', 'sms','antiFraudCheck','clientTypeCheck','deviceInfoRiskCheck','whitelistMatch'"
   ]
  },
  {
   "cell_type": "markdown",
   "metadata": {},
   "source": [
    "# 评分卡通过率数据监控"
   ]
  },
  {
   "cell_type": "code",
   "execution_count": 1161,
   "metadata": {},
   "outputs": [
    {
     "data": {
      "text/html": [
       "<div>\n",
       "<style scoped>\n",
       "    .dataframe tbody tr th:only-of-type {\n",
       "        vertical-align: middle;\n",
       "    }\n",
       "\n",
       "    .dataframe tbody tr th {\n",
       "        vertical-align: top;\n",
       "    }\n",
       "\n",
       "    .dataframe thead th {\n",
       "        text-align: right;\n",
       "    }\n",
       "</style>\n",
       "<table border=\"1\" class=\"dataframe\">\n",
       "  <thead>\n",
       "    <tr style=\"text-align: right;\">\n",
       "      <th></th>\n",
       "      <th>clientTypeCheck</th>\n",
       "      <th>createTime</th>\n",
       "      <th>finalCheckOutput</th>\n",
       "      <th>riskOrderNo</th>\n",
       "    </tr>\n",
       "  </thead>\n",
       "  <tbody>\n",
       "    <tr>\n",
       "      <th>0</th>\n",
       "      <td>{'ruleMark': 'S3'}</td>\n",
       "      <td>2018-11-06 00:01:11.989</td>\n",
       "      <td>{'finalCheckMark': ['S3'], 'score': '0.0'}</td>\n",
       "      <td>FEK2018110607011050728626</td>\n",
       "    </tr>\n",
       "    <tr>\n",
       "      <th>1</th>\n",
       "      <td>{'ruleMark': 'S3'}</td>\n",
       "      <td>2018-11-06 00:03:05.712</td>\n",
       "      <td>{'finalCheckMark': ['S3'], 'score': '0.0'}</td>\n",
       "      <td>FEK2018110607030345250820</td>\n",
       "    </tr>\n",
       "    <tr>\n",
       "      <th>2</th>\n",
       "      <td>{'ruleMark': 'S1'}</td>\n",
       "      <td>2018-11-06 00:05:06.254</td>\n",
       "      <td>{'finalCheckMark': ['S1', 'K8', 'N1', 'N7'], '...</td>\n",
       "      <td>FEK2018110607050019892312</td>\n",
       "    </tr>\n",
       "    <tr>\n",
       "      <th>3</th>\n",
       "      <td>{'ruleMark': 'S3'}</td>\n",
       "      <td>2018-11-06 00:07:56.581</td>\n",
       "      <td>{'finalCheckMark': ['S3'], 'score': '0.0'}</td>\n",
       "      <td>FEK2018110607075524346732</td>\n",
       "    </tr>\n",
       "    <tr>\n",
       "      <th>4</th>\n",
       "      <td>{'ruleMark': 'S1'}</td>\n",
       "      <td>2018-11-06 00:08:37.913</td>\n",
       "      <td>{'finalCheckMark': ['S1', 'M6-2', 'K2'], 'scor...</td>\n",
       "      <td>FEK2018110607083650440607</td>\n",
       "    </tr>\n",
       "  </tbody>\n",
       "</table>\n",
       "</div>"
      ],
      "text/plain": [
       "      clientTypeCheck              createTime  \\\n",
       "0  {'ruleMark': 'S3'} 2018-11-06 00:01:11.989   \n",
       "1  {'ruleMark': 'S3'} 2018-11-06 00:03:05.712   \n",
       "2  {'ruleMark': 'S1'} 2018-11-06 00:05:06.254   \n",
       "3  {'ruleMark': 'S3'} 2018-11-06 00:07:56.581   \n",
       "4  {'ruleMark': 'S1'} 2018-11-06 00:08:37.913   \n",
       "\n",
       "                                    finalCheckOutput  \\\n",
       "0         {'finalCheckMark': ['S3'], 'score': '0.0'}   \n",
       "1         {'finalCheckMark': ['S3'], 'score': '0.0'}   \n",
       "2  {'finalCheckMark': ['S1', 'K8', 'N1', 'N7'], '...   \n",
       "3         {'finalCheckMark': ['S3'], 'score': '0.0'}   \n",
       "4  {'finalCheckMark': ['S1', 'M6-2', 'K2'], 'scor...   \n",
       "\n",
       "                 riskOrderNo  \n",
       "0  FEK2018110607011050728626  \n",
       "1  FEK2018110607030345250820  \n",
       "2  FEK2018110607050019892312  \n",
       "3  FEK2018110607075524346732  \n",
       "4  FEK2018110607083650440607  "
      ]
     },
     "execution_count": 1161,
     "metadata": {},
     "output_type": "execute_result"
    }
   ],
   "source": [
    "df_score = pd.DataFrame(list(db.t_sl_request.find({'createTime':{\n",
    "                                                          \"$gte\": datetime(2018,11,6)\n",
    "                                                          #,\"$lte\":datetime(2018,11,5)\n",
    "                                                                 }},\n",
    "                                                   {'_id':0,\"riskOrderNo\":1,\"finalCheckOutput.score\":1,\n",
    "                                                    \"createTime\":1,'clientTypeCheck.ruleMark':1,'finalCheckOutput.finalCheckMark':1}\n",
    "                                                  ,no_cursor_timeout = True)))\n",
    "df_score.head()"
   ]
  },
  {
   "cell_type": "code",
   "execution_count": 1162,
   "metadata": {
    "scrolled": true
   },
   "outputs": [],
   "source": [
    "df_score['score'] = df_score['finalCheckOutput'].map(lambda s: list(s.values())[1])\n",
    "df_score['clientTypeCheck'] = df_score['finalCheckOutput'].map(lambda s: list(s.values())[0])\n",
    "#df_score['idNumber'] = df_score['basicInfo'].map(lambda s: list(s.values())[0])\n",
    "\n",
    "df_scorecard = df_score.drop('finalCheckOutput',1)\n",
    "df_scorecard['score']  = df_scorecard['score'].astype(float)\n",
    "\n",
    "#df_scorecard.sort_values(by = 'score', ascending=False)\n",
    "\n",
    "# 取过模型的数据且排序\n",
    "df = df_scorecard[df_scorecard['score']>0].sort_values(by = 'createTime',ascending = False)"
   ]
  },
  {
   "cell_type": "code",
   "execution_count": 1116,
   "metadata": {},
   "outputs": [],
   "source": [
    "df['yq_time'] = df['createTime'].dt.date"
   ]
  },
  {
   "cell_type": "code",
   "execution_count": 1139,
   "metadata": {},
   "outputs": [
    {
     "data": {
      "text/plain": [
       "(3129, 5)"
      ]
     },
     "execution_count": 1139,
     "metadata": {},
     "output_type": "execute_result"
    }
   ],
   "source": [
    "df.shape"
   ]
  },
  {
   "cell_type": "code",
   "execution_count": 1133,
   "metadata": {},
   "outputs": [
    {
     "data": {
      "text/plain": [
       "0.4563106796116505"
      ]
     },
     "execution_count": 1133,
     "metadata": {},
     "output_type": "execute_result"
    }
   ],
   "source": [
    "df_06 = df[(df['yq_time'].map(str)=='2018-11-06')&(df['createTime'].dt.hour>8)]\n",
    "\n",
    "df_06[df_06['score']>418].shape[0]/df_06[df_06['score']>0].shape[0]"
   ]
  },
  {
   "cell_type": "code",
   "execution_count": 1134,
   "metadata": {},
   "outputs": [
    {
     "data": {
      "text/plain": [
       "0.4"
      ]
     },
     "execution_count": 1134,
     "metadata": {},
     "output_type": "execute_result"
    }
   ],
   "source": [
    "df_07 = df[(df['yq_time'].map(str)=='2018-11-07')]\n",
    "\n",
    "df_07[df_07['score']>418].shape[0]/df_07[df_07['score']>0].shape[0]"
   ]
  },
  {
   "cell_type": "code",
   "execution_count": 1135,
   "metadata": {},
   "outputs": [
    {
     "data": {
      "text/plain": [
       "0.3222591362126246"
      ]
     },
     "execution_count": 1135,
     "metadata": {},
     "output_type": "execute_result"
    }
   ],
   "source": [
    "df_08 = df[(df['yq_time'].map(str)=='2018-11-08')]\n",
    "\n",
    "df_08[df_08['score']>418].shape[0]/df_08[df_08['score']>0].shape[0]"
   ]
  },
  {
   "cell_type": "code",
   "execution_count": 1141,
   "metadata": {},
   "outputs": [
    {
     "data": {
      "text/plain": [
       "0.358974358974359"
      ]
     },
     "execution_count": 1141,
     "metadata": {},
     "output_type": "execute_result"
    }
   ],
   "source": [
    "df_09 = df[(df['yq_time'].map(str)=='2018-11-09')]\n",
    "\n",
    "df_09[df_09['score']>418].shape[0]/df_09[df_09['score']>0].shape[0]"
   ]
  },
  {
   "cell_type": "code",
   "execution_count": null,
   "metadata": {},
   "outputs": [],
   "source": []
  },
  {
   "cell_type": "code",
   "execution_count": 1140,
   "metadata": {},
   "outputs": [
    {
     "data": {
      "text/plain": [
       "0.36337488015340363"
      ]
     },
     "execution_count": 1140,
     "metadata": {},
     "output_type": "execute_result"
    }
   ],
   "source": [
    "df[df['score']>418].shape[0]/df[df['score']>0].shape[0]"
   ]
  },
  {
   "cell_type": "code",
   "execution_count": null,
   "metadata": {},
   "outputs": [],
   "source": []
  },
  {
   "cell_type": "code",
   "execution_count": 570,
   "metadata": {},
   "outputs": [
    {
     "data": {
      "text/html": [
       "<div>\n",
       "<style scoped>\n",
       "    .dataframe tbody tr th:only-of-type {\n",
       "        vertical-align: middle;\n",
       "    }\n",
       "\n",
       "    .dataframe tbody tr th {\n",
       "        vertical-align: top;\n",
       "    }\n",
       "\n",
       "    .dataframe thead th {\n",
       "        text-align: right;\n",
       "    }\n",
       "</style>\n",
       "<table border=\"1\" class=\"dataframe\">\n",
       "  <thead>\n",
       "    <tr style=\"text-align: right;\">\n",
       "      <th></th>\n",
       "      <th>createTime</th>\n",
       "      <th>riskOrderNo</th>\n",
       "      <th>score</th>\n",
       "    </tr>\n",
       "  </thead>\n",
       "  <tbody>\n",
       "    <tr>\n",
       "      <th>52730</th>\n",
       "      <td>2018-11-22 04:08:18.066</td>\n",
       "      <td>FEK2018112211081346019238</td>\n",
       "      <td>425.0</td>\n",
       "    </tr>\n",
       "    <tr>\n",
       "      <th>52721</th>\n",
       "      <td>2018-11-22 04:05:42.529</td>\n",
       "      <td>FEK2018112211053862656331</td>\n",
       "      <td>345.0</td>\n",
       "    </tr>\n",
       "    <tr>\n",
       "      <th>52715</th>\n",
       "      <td>2018-11-22 04:04:26.808</td>\n",
       "      <td>FEK2018112211041982665089</td>\n",
       "      <td>442.0</td>\n",
       "    </tr>\n",
       "    <tr>\n",
       "      <th>52708</th>\n",
       "      <td>2018-11-22 04:01:24.140</td>\n",
       "      <td>FEK2018112211012068188948</td>\n",
       "      <td>484.0</td>\n",
       "    </tr>\n",
       "    <tr>\n",
       "      <th>52700</th>\n",
       "      <td>2018-11-22 03:57:30.416</td>\n",
       "      <td>FEK2018112210572619798882</td>\n",
       "      <td>520.0</td>\n",
       "    </tr>\n",
       "  </tbody>\n",
       "</table>\n",
       "</div>"
      ],
      "text/plain": [
       "                   createTime                riskOrderNo  score\n",
       "52730 2018-11-22 04:08:18.066  FEK2018112211081346019238  425.0\n",
       "52721 2018-11-22 04:05:42.529  FEK2018112211053862656331  345.0\n",
       "52715 2018-11-22 04:04:26.808  FEK2018112211041982665089  442.0\n",
       "52708 2018-11-22 04:01:24.140  FEK2018112211012068188948  484.0\n",
       "52700 2018-11-22 03:57:30.416  FEK2018112210572619798882  520.0"
      ]
     },
     "execution_count": 570,
     "metadata": {},
     "output_type": "execute_result"
    }
   ],
   "source": [
    "df.head()"
   ]
  },
  {
   "cell_type": "code",
   "execution_count": 341,
   "metadata": {
    "scrolled": true
   },
   "outputs": [
    {
     "data": {
      "text/html": [
       "<div>\n",
       "<style scoped>\n",
       "    .dataframe tbody tr th:only-of-type {\n",
       "        vertical-align: middle;\n",
       "    }\n",
       "\n",
       "    .dataframe tbody tr th {\n",
       "        vertical-align: top;\n",
       "    }\n",
       "\n",
       "    .dataframe thead th {\n",
       "        text-align: right;\n",
       "    }\n",
       "</style>\n",
       "<table border=\"1\" class=\"dataframe\">\n",
       "  <thead>\n",
       "    <tr style=\"text-align: right;\">\n",
       "      <th></th>\n",
       "      <th>createTime</th>\n",
       "      <th>riskOrderNo</th>\n",
       "      <th>score</th>\n",
       "    </tr>\n",
       "  </thead>\n",
       "  <tbody>\n",
       "    <tr>\n",
       "      <th>49449</th>\n",
       "      <td>2018-11-21 01:51:55.871</td>\n",
       "      <td>FEK2018112108515255510013</td>\n",
       "      <td>424.0</td>\n",
       "    </tr>\n",
       "    <tr>\n",
       "      <th>49415</th>\n",
       "      <td>2018-11-21 01:43:20.698</td>\n",
       "      <td>FEK2018112108431731309944</td>\n",
       "      <td>350.0</td>\n",
       "    </tr>\n",
       "    <tr>\n",
       "      <th>49408</th>\n",
       "      <td>2018-11-21 01:41:20.939</td>\n",
       "      <td>FEK2018112108411842999498</td>\n",
       "      <td>345.0</td>\n",
       "    </tr>\n",
       "    <tr>\n",
       "      <th>49399</th>\n",
       "      <td>2018-11-21 01:39:15.445</td>\n",
       "      <td>FEK2018112108391267698596</td>\n",
       "      <td>429.0</td>\n",
       "    </tr>\n",
       "    <tr>\n",
       "      <th>49382</th>\n",
       "      <td>2018-11-21 01:35:02.049</td>\n",
       "      <td>FEK2018112108345985099129</td>\n",
       "      <td>324.0</td>\n",
       "    </tr>\n",
       "    <tr>\n",
       "      <th>49333</th>\n",
       "      <td>2018-11-21 01:18:24.698</td>\n",
       "      <td>FEK2018112108182209967452</td>\n",
       "      <td>444.0</td>\n",
       "    </tr>\n",
       "    <tr>\n",
       "      <th>49317</th>\n",
       "      <td>2018-11-21 01:10:40.641</td>\n",
       "      <td>FEK2018112108103808489355</td>\n",
       "      <td>327.0</td>\n",
       "    </tr>\n",
       "    <tr>\n",
       "      <th>49301</th>\n",
       "      <td>2018-11-21 01:05:57.152</td>\n",
       "      <td>FEK2018112108055435538970</td>\n",
       "      <td>454.0</td>\n",
       "    </tr>\n",
       "    <tr>\n",
       "      <th>49299</th>\n",
       "      <td>2018-11-21 01:04:45.272</td>\n",
       "      <td>FEK2018112108044315974442</td>\n",
       "      <td>365.0</td>\n",
       "    </tr>\n",
       "    <tr>\n",
       "      <th>49298</th>\n",
       "      <td>2018-11-21 01:04:20.754</td>\n",
       "      <td>FEK2018112108041860836588</td>\n",
       "      <td>412.0</td>\n",
       "    </tr>\n",
       "    <tr>\n",
       "      <th>49280</th>\n",
       "      <td>2018-11-21 00:57:22.771</td>\n",
       "      <td>FEK2018112107572068822925</td>\n",
       "      <td>391.0</td>\n",
       "    </tr>\n",
       "    <tr>\n",
       "      <th>49278</th>\n",
       "      <td>2018-11-21 00:57:03.947</td>\n",
       "      <td>FEK2018112107570140070875</td>\n",
       "      <td>360.0</td>\n",
       "    </tr>\n",
       "    <tr>\n",
       "      <th>49276</th>\n",
       "      <td>2018-11-21 00:56:19.470</td>\n",
       "      <td>FEK2018112107561673751235</td>\n",
       "      <td>403.0</td>\n",
       "    </tr>\n",
       "    <tr>\n",
       "      <th>49238</th>\n",
       "      <td>2018-11-21 00:42:29.299</td>\n",
       "      <td>FEK2018112107422693915788</td>\n",
       "      <td>336.0</td>\n",
       "    </tr>\n",
       "    <tr>\n",
       "      <th>49225</th>\n",
       "      <td>2018-11-21 00:37:44.221</td>\n",
       "      <td>FEK2018112107374175044441</td>\n",
       "      <td>447.0</td>\n",
       "    </tr>\n",
       "    <tr>\n",
       "      <th>49222</th>\n",
       "      <td>2018-11-21 00:37:18.823</td>\n",
       "      <td>FEK2018112107371691481464</td>\n",
       "      <td>324.0</td>\n",
       "    </tr>\n",
       "    <tr>\n",
       "      <th>49217</th>\n",
       "      <td>2018-11-21 00:36:21.686</td>\n",
       "      <td>FEK2018112107361838664032</td>\n",
       "      <td>417.0</td>\n",
       "    </tr>\n",
       "    <tr>\n",
       "      <th>49211</th>\n",
       "      <td>2018-11-21 00:33:56.571</td>\n",
       "      <td>FEK2018112107335400071919</td>\n",
       "      <td>291.0</td>\n",
       "    </tr>\n",
       "    <tr>\n",
       "      <th>49206</th>\n",
       "      <td>2018-11-21 00:31:23.026</td>\n",
       "      <td>FEK2018112107312088233361</td>\n",
       "      <td>357.0</td>\n",
       "    </tr>\n",
       "    <tr>\n",
       "      <th>49203</th>\n",
       "      <td>2018-11-21 00:30:27.171</td>\n",
       "      <td>FEK2018112107302433898792</td>\n",
       "      <td>265.0</td>\n",
       "    </tr>\n",
       "    <tr>\n",
       "      <th>49137</th>\n",
       "      <td>2018-11-20 23:56:37.108</td>\n",
       "      <td>FEK2018112106563418467430</td>\n",
       "      <td>433.0</td>\n",
       "    </tr>\n",
       "    <tr>\n",
       "      <th>49121</th>\n",
       "      <td>2018-11-20 23:48:30.757</td>\n",
       "      <td>FEK2018112106482841222924</td>\n",
       "      <td>398.0</td>\n",
       "    </tr>\n",
       "    <tr>\n",
       "      <th>49100</th>\n",
       "      <td>2018-11-20 23:40:35.562</td>\n",
       "      <td>FEK2018112106403296142885</td>\n",
       "      <td>364.0</td>\n",
       "    </tr>\n",
       "    <tr>\n",
       "      <th>49067</th>\n",
       "      <td>2018-11-20 23:16:43.028</td>\n",
       "      <td>FEK2018112106164006310130</td>\n",
       "      <td>428.0</td>\n",
       "    </tr>\n",
       "    <tr>\n",
       "      <th>49063</th>\n",
       "      <td>2018-11-20 23:13:07.380</td>\n",
       "      <td>FEK2018112106130402834822</td>\n",
       "      <td>287.0</td>\n",
       "    </tr>\n",
       "    <tr>\n",
       "      <th>49038</th>\n",
       "      <td>2018-11-20 22:39:42.648</td>\n",
       "      <td>FEK2018112105393953917926</td>\n",
       "      <td>497.0</td>\n",
       "    </tr>\n",
       "    <tr>\n",
       "      <th>49018</th>\n",
       "      <td>2018-11-20 22:20:38.773</td>\n",
       "      <td>FEK2018112105203630908178</td>\n",
       "      <td>317.0</td>\n",
       "    </tr>\n",
       "    <tr>\n",
       "      <th>49009</th>\n",
       "      <td>2018-11-20 21:52:41.278</td>\n",
       "      <td>FEK2018112104523829673794</td>\n",
       "      <td>402.0</td>\n",
       "    </tr>\n",
       "    <tr>\n",
       "      <th>48967</th>\n",
       "      <td>2018-11-20 19:33:19.326</td>\n",
       "      <td>FEK2018112102331680226192</td>\n",
       "      <td>336.0</td>\n",
       "    </tr>\n",
       "    <tr>\n",
       "      <th>48939</th>\n",
       "      <td>2018-11-20 18:34:54.785</td>\n",
       "      <td>FEK2018112101345261101073</td>\n",
       "      <td>435.0</td>\n",
       "    </tr>\n",
       "    <tr>\n",
       "      <th>...</th>\n",
       "      <td>...</td>\n",
       "      <td>...</td>\n",
       "      <td>...</td>\n",
       "    </tr>\n",
       "    <tr>\n",
       "      <th>1561</th>\n",
       "      <td>2018-11-06 10:06:50.093</td>\n",
       "      <td>FEK2018110617064760301161</td>\n",
       "      <td>489.0</td>\n",
       "    </tr>\n",
       "    <tr>\n",
       "      <th>1554</th>\n",
       "      <td>2018-11-06 10:05:35.105</td>\n",
       "      <td>FEK2018110617053351455868</td>\n",
       "      <td>429.0</td>\n",
       "    </tr>\n",
       "    <tr>\n",
       "      <th>1535</th>\n",
       "      <td>2018-11-06 10:00:08.328</td>\n",
       "      <td>FEK2018110617000603872150</td>\n",
       "      <td>346.0</td>\n",
       "    </tr>\n",
       "    <tr>\n",
       "      <th>1527</th>\n",
       "      <td>2018-11-06 09:58:22.690</td>\n",
       "      <td>FEK2018110616582070035868</td>\n",
       "      <td>444.0</td>\n",
       "    </tr>\n",
       "    <tr>\n",
       "      <th>1517</th>\n",
       "      <td>2018-11-06 09:56:50.149</td>\n",
       "      <td>FEK2018110616564842981840</td>\n",
       "      <td>265.0</td>\n",
       "    </tr>\n",
       "    <tr>\n",
       "      <th>1511</th>\n",
       "      <td>2018-11-06 09:55:06.006</td>\n",
       "      <td>FEK2018110616550488139435</td>\n",
       "      <td>418.0</td>\n",
       "    </tr>\n",
       "    <tr>\n",
       "      <th>1506</th>\n",
       "      <td>2018-11-06 09:52:59.456</td>\n",
       "      <td>FEK2018110616525666194361</td>\n",
       "      <td>355.0</td>\n",
       "    </tr>\n",
       "    <tr>\n",
       "      <th>1495</th>\n",
       "      <td>2018-11-06 09:50:44.863</td>\n",
       "      <td>FEK2018110616504247085948</td>\n",
       "      <td>485.0</td>\n",
       "    </tr>\n",
       "    <tr>\n",
       "      <th>1494</th>\n",
       "      <td>2018-11-06 09:50:40.475</td>\n",
       "      <td>FEK2018110616503855427536</td>\n",
       "      <td>463.0</td>\n",
       "    </tr>\n",
       "    <tr>\n",
       "      <th>1482</th>\n",
       "      <td>2018-11-06 09:46:57.025</td>\n",
       "      <td>FEK2018110616465515310007</td>\n",
       "      <td>495.0</td>\n",
       "    </tr>\n",
       "    <tr>\n",
       "      <th>1479</th>\n",
       "      <td>2018-11-06 09:46:18.614</td>\n",
       "      <td>FEK2018110616461699932636</td>\n",
       "      <td>487.0</td>\n",
       "    </tr>\n",
       "    <tr>\n",
       "      <th>1469</th>\n",
       "      <td>2018-11-06 09:43:47.440</td>\n",
       "      <td>FEK2018110616434510091222</td>\n",
       "      <td>413.0</td>\n",
       "    </tr>\n",
       "    <tr>\n",
       "      <th>1439</th>\n",
       "      <td>2018-11-06 09:37:58.357</td>\n",
       "      <td>FEK2018110616375603829129</td>\n",
       "      <td>484.0</td>\n",
       "    </tr>\n",
       "    <tr>\n",
       "      <th>1327</th>\n",
       "      <td>2018-11-06 09:13:55.593</td>\n",
       "      <td>FEK2018110616135311171816</td>\n",
       "      <td>531.0</td>\n",
       "    </tr>\n",
       "    <tr>\n",
       "      <th>1294</th>\n",
       "      <td>2018-11-06 09:09:03.453</td>\n",
       "      <td>FEK2018110616090102121223</td>\n",
       "      <td>477.0</td>\n",
       "    </tr>\n",
       "    <tr>\n",
       "      <th>1276</th>\n",
       "      <td>2018-11-06 09:03:51.212</td>\n",
       "      <td>FEK2018110616034946857787</td>\n",
       "      <td>350.0</td>\n",
       "    </tr>\n",
       "    <tr>\n",
       "      <th>1259</th>\n",
       "      <td>2018-11-06 09:01:07.256</td>\n",
       "      <td>FEK2018110616010590644925</td>\n",
       "      <td>397.0</td>\n",
       "    </tr>\n",
       "    <tr>\n",
       "      <th>1245</th>\n",
       "      <td>2018-11-06 08:59:02.275</td>\n",
       "      <td>FEK2018110615590097449813</td>\n",
       "      <td>444.0</td>\n",
       "    </tr>\n",
       "    <tr>\n",
       "      <th>1213</th>\n",
       "      <td>2018-11-06 08:52:08.815</td>\n",
       "      <td>FEK2018110615520612207890</td>\n",
       "      <td>393.0</td>\n",
       "    </tr>\n",
       "    <tr>\n",
       "      <th>1185</th>\n",
       "      <td>2018-11-06 08:47:10.141</td>\n",
       "      <td>FEK2018110615470789725897</td>\n",
       "      <td>331.0</td>\n",
       "    </tr>\n",
       "    <tr>\n",
       "      <th>1179</th>\n",
       "      <td>2018-11-06 08:45:03.449</td>\n",
       "      <td>FEK2018110615450121004230</td>\n",
       "      <td>273.0</td>\n",
       "    </tr>\n",
       "    <tr>\n",
       "      <th>1165</th>\n",
       "      <td>2018-11-06 08:41:54.473</td>\n",
       "      <td>FEK2018110615415248608073</td>\n",
       "      <td>373.0</td>\n",
       "    </tr>\n",
       "    <tr>\n",
       "      <th>1110</th>\n",
       "      <td>2018-11-06 08:26:08.180</td>\n",
       "      <td>FEK2018110615260649120998</td>\n",
       "      <td>419.0</td>\n",
       "    </tr>\n",
       "    <tr>\n",
       "      <th>1094</th>\n",
       "      <td>2018-11-06 08:19:43.110</td>\n",
       "      <td>FEK2018110615194166077361</td>\n",
       "      <td>386.0</td>\n",
       "    </tr>\n",
       "    <tr>\n",
       "      <th>1080</th>\n",
       "      <td>2018-11-06 08:16:34.130</td>\n",
       "      <td>FEK2018110615163205795955</td>\n",
       "      <td>426.0</td>\n",
       "    </tr>\n",
       "    <tr>\n",
       "      <th>1068</th>\n",
       "      <td>2018-11-06 08:13:13.875</td>\n",
       "      <td>FEK2018110615131118053194</td>\n",
       "      <td>331.0</td>\n",
       "    </tr>\n",
       "    <tr>\n",
       "      <th>1051</th>\n",
       "      <td>2018-11-06 08:07:11.289</td>\n",
       "      <td>FEK2018110615070959168205</td>\n",
       "      <td>481.0</td>\n",
       "    </tr>\n",
       "    <tr>\n",
       "      <th>1044</th>\n",
       "      <td>2018-11-06 08:05:41.246</td>\n",
       "      <td>FEK2018110615053905913277</td>\n",
       "      <td>296.0</td>\n",
       "    </tr>\n",
       "    <tr>\n",
       "      <th>1040</th>\n",
       "      <td>2018-11-06 08:05:04.106</td>\n",
       "      <td>FEK2018110615050122406453</td>\n",
       "      <td>327.0</td>\n",
       "    </tr>\n",
       "    <tr>\n",
       "      <th>1037</th>\n",
       "      <td>2018-11-06 08:04:15.604</td>\n",
       "      <td>FEK2018110615041323689171</td>\n",
       "      <td>342.0</td>\n",
       "    </tr>\n",
       "  </tbody>\n",
       "</table>\n",
       "<p>2640 rows × 3 columns</p>\n",
       "</div>"
      ],
      "text/plain": [
       "                   createTime                riskOrderNo  score\n",
       "49449 2018-11-21 01:51:55.871  FEK2018112108515255510013  424.0\n",
       "49415 2018-11-21 01:43:20.698  FEK2018112108431731309944  350.0\n",
       "49408 2018-11-21 01:41:20.939  FEK2018112108411842999498  345.0\n",
       "49399 2018-11-21 01:39:15.445  FEK2018112108391267698596  429.0\n",
       "49382 2018-11-21 01:35:02.049  FEK2018112108345985099129  324.0\n",
       "49333 2018-11-21 01:18:24.698  FEK2018112108182209967452  444.0\n",
       "49317 2018-11-21 01:10:40.641  FEK2018112108103808489355  327.0\n",
       "49301 2018-11-21 01:05:57.152  FEK2018112108055435538970  454.0\n",
       "49299 2018-11-21 01:04:45.272  FEK2018112108044315974442  365.0\n",
       "49298 2018-11-21 01:04:20.754  FEK2018112108041860836588  412.0\n",
       "49280 2018-11-21 00:57:22.771  FEK2018112107572068822925  391.0\n",
       "49278 2018-11-21 00:57:03.947  FEK2018112107570140070875  360.0\n",
       "49276 2018-11-21 00:56:19.470  FEK2018112107561673751235  403.0\n",
       "49238 2018-11-21 00:42:29.299  FEK2018112107422693915788  336.0\n",
       "49225 2018-11-21 00:37:44.221  FEK2018112107374175044441  447.0\n",
       "49222 2018-11-21 00:37:18.823  FEK2018112107371691481464  324.0\n",
       "49217 2018-11-21 00:36:21.686  FEK2018112107361838664032  417.0\n",
       "49211 2018-11-21 00:33:56.571  FEK2018112107335400071919  291.0\n",
       "49206 2018-11-21 00:31:23.026  FEK2018112107312088233361  357.0\n",
       "49203 2018-11-21 00:30:27.171  FEK2018112107302433898792  265.0\n",
       "49137 2018-11-20 23:56:37.108  FEK2018112106563418467430  433.0\n",
       "49121 2018-11-20 23:48:30.757  FEK2018112106482841222924  398.0\n",
       "49100 2018-11-20 23:40:35.562  FEK2018112106403296142885  364.0\n",
       "49067 2018-11-20 23:16:43.028  FEK2018112106164006310130  428.0\n",
       "49063 2018-11-20 23:13:07.380  FEK2018112106130402834822  287.0\n",
       "49038 2018-11-20 22:39:42.648  FEK2018112105393953917926  497.0\n",
       "49018 2018-11-20 22:20:38.773  FEK2018112105203630908178  317.0\n",
       "49009 2018-11-20 21:52:41.278  FEK2018112104523829673794  402.0\n",
       "48967 2018-11-20 19:33:19.326  FEK2018112102331680226192  336.0\n",
       "48939 2018-11-20 18:34:54.785  FEK2018112101345261101073  435.0\n",
       "...                       ...                        ...    ...\n",
       "1561  2018-11-06 10:06:50.093  FEK2018110617064760301161  489.0\n",
       "1554  2018-11-06 10:05:35.105  FEK2018110617053351455868  429.0\n",
       "1535  2018-11-06 10:00:08.328  FEK2018110617000603872150  346.0\n",
       "1527  2018-11-06 09:58:22.690  FEK2018110616582070035868  444.0\n",
       "1517  2018-11-06 09:56:50.149  FEK2018110616564842981840  265.0\n",
       "1511  2018-11-06 09:55:06.006  FEK2018110616550488139435  418.0\n",
       "1506  2018-11-06 09:52:59.456  FEK2018110616525666194361  355.0\n",
       "1495  2018-11-06 09:50:44.863  FEK2018110616504247085948  485.0\n",
       "1494  2018-11-06 09:50:40.475  FEK2018110616503855427536  463.0\n",
       "1482  2018-11-06 09:46:57.025  FEK2018110616465515310007  495.0\n",
       "1479  2018-11-06 09:46:18.614  FEK2018110616461699932636  487.0\n",
       "1469  2018-11-06 09:43:47.440  FEK2018110616434510091222  413.0\n",
       "1439  2018-11-06 09:37:58.357  FEK2018110616375603829129  484.0\n",
       "1327  2018-11-06 09:13:55.593  FEK2018110616135311171816  531.0\n",
       "1294  2018-11-06 09:09:03.453  FEK2018110616090102121223  477.0\n",
       "1276  2018-11-06 09:03:51.212  FEK2018110616034946857787  350.0\n",
       "1259  2018-11-06 09:01:07.256  FEK2018110616010590644925  397.0\n",
       "1245  2018-11-06 08:59:02.275  FEK2018110615590097449813  444.0\n",
       "1213  2018-11-06 08:52:08.815  FEK2018110615520612207890  393.0\n",
       "1185  2018-11-06 08:47:10.141  FEK2018110615470789725897  331.0\n",
       "1179  2018-11-06 08:45:03.449  FEK2018110615450121004230  273.0\n",
       "1165  2018-11-06 08:41:54.473  FEK2018110615415248608073  373.0\n",
       "1110  2018-11-06 08:26:08.180  FEK2018110615260649120998  419.0\n",
       "1094  2018-11-06 08:19:43.110  FEK2018110615194166077361  386.0\n",
       "1080  2018-11-06 08:16:34.130  FEK2018110615163205795955  426.0\n",
       "1068  2018-11-06 08:13:13.875  FEK2018110615131118053194  331.0\n",
       "1051  2018-11-06 08:07:11.289  FEK2018110615070959168205  481.0\n",
       "1044  2018-11-06 08:05:41.246  FEK2018110615053905913277  296.0\n",
       "1040  2018-11-06 08:05:04.106  FEK2018110615050122406453  327.0\n",
       "1037  2018-11-06 08:04:15.604  FEK2018110615041323689171  342.0\n",
       "\n",
       "[2640 rows x 3 columns]"
      ]
     },
     "execution_count": 341,
     "metadata": {},
     "output_type": "execute_result"
    }
   ],
   "source": [
    "df[df['createTime']>'2018-11-06 8:00:00']"
   ]
  },
  {
   "cell_type": "code",
   "execution_count": 391,
   "metadata": {
    "collapsed": true
   },
   "outputs": [
    {
     "data": {
      "text/html": [
       "<div>\n",
       "<style scoped>\n",
       "    .dataframe tbody tr th:only-of-type {\n",
       "        vertical-align: middle;\n",
       "    }\n",
       "\n",
       "    .dataframe tbody tr th {\n",
       "        vertical-align: top;\n",
       "    }\n",
       "\n",
       "    .dataframe thead th {\n",
       "        text-align: right;\n",
       "    }\n",
       "</style>\n",
       "<table border=\"1\" class=\"dataframe\">\n",
       "  <thead>\n",
       "    <tr style=\"text-align: right;\">\n",
       "      <th></th>\n",
       "      <th>createTime</th>\n",
       "      <th>riskOrderNo</th>\n",
       "      <th>score</th>\n",
       "    </tr>\n",
       "  </thead>\n",
       "  <tbody>\n",
       "    <tr>\n",
       "      <th>2714</th>\n",
       "      <td>2018-11-06 15:21:37.120</td>\n",
       "      <td>FEK2018110622213420660445</td>\n",
       "      <td>456.0</td>\n",
       "    </tr>\n",
       "    <tr>\n",
       "      <th>2672</th>\n",
       "      <td>2018-11-06 14:54:40.959</td>\n",
       "      <td>FEK2018110621543958975347</td>\n",
       "      <td>421.0</td>\n",
       "    </tr>\n",
       "    <tr>\n",
       "      <th>2664</th>\n",
       "      <td>2018-11-06 14:49:13.619</td>\n",
       "      <td>FEK2018110621491165697086</td>\n",
       "      <td>451.0</td>\n",
       "    </tr>\n",
       "    <tr>\n",
       "      <th>2645</th>\n",
       "      <td>2018-11-06 14:39:52.104</td>\n",
       "      <td>FEK2018110621394915875259</td>\n",
       "      <td>440.0</td>\n",
       "    </tr>\n",
       "    <tr>\n",
       "      <th>2632</th>\n",
       "      <td>2018-11-06 14:32:59.977</td>\n",
       "      <td>FEK2018110621325816859764</td>\n",
       "      <td>420.0</td>\n",
       "    </tr>\n",
       "    <tr>\n",
       "      <th>2615</th>\n",
       "      <td>2018-11-06 14:25:19.044</td>\n",
       "      <td>FEK2018110621251688552668</td>\n",
       "      <td>500.0</td>\n",
       "    </tr>\n",
       "    <tr>\n",
       "      <th>2569</th>\n",
       "      <td>2018-11-06 14:03:46.222</td>\n",
       "      <td>FEK2018110621034311220504</td>\n",
       "      <td>553.0</td>\n",
       "    </tr>\n",
       "    <tr>\n",
       "      <th>2472</th>\n",
       "      <td>2018-11-06 13:33:58.830</td>\n",
       "      <td>FEK2018110620335668599896</td>\n",
       "      <td>425.0</td>\n",
       "    </tr>\n",
       "    <tr>\n",
       "      <th>2443</th>\n",
       "      <td>2018-11-06 13:23:41.555</td>\n",
       "      <td>FEK2018110620233969328284</td>\n",
       "      <td>447.0</td>\n",
       "    </tr>\n",
       "    <tr>\n",
       "      <th>2347</th>\n",
       "      <td>2018-11-06 12:52:34.135</td>\n",
       "      <td>FEK2018110619523226191732</td>\n",
       "      <td>485.0</td>\n",
       "    </tr>\n",
       "    <tr>\n",
       "      <th>2345</th>\n",
       "      <td>2018-11-06 12:50:39.931</td>\n",
       "      <td>FEK2018110619503813717479</td>\n",
       "      <td>516.0</td>\n",
       "    </tr>\n",
       "    <tr>\n",
       "      <th>2251</th>\n",
       "      <td>2018-11-06 12:23:30.756</td>\n",
       "      <td>FEK2018110619232900292397</td>\n",
       "      <td>460.0</td>\n",
       "    </tr>\n",
       "    <tr>\n",
       "      <th>2225</th>\n",
       "      <td>2018-11-06 12:18:06.266</td>\n",
       "      <td>FEK2018110619180358541527</td>\n",
       "      <td>432.0</td>\n",
       "    </tr>\n",
       "    <tr>\n",
       "      <th>2152</th>\n",
       "      <td>2018-11-06 11:54:49.004</td>\n",
       "      <td>FEK2018110618544735878751</td>\n",
       "      <td>442.0</td>\n",
       "    </tr>\n",
       "    <tr>\n",
       "      <th>2113</th>\n",
       "      <td>2018-11-06 11:43:57.683</td>\n",
       "      <td>FEK2018110618435506551273</td>\n",
       "      <td>450.0</td>\n",
       "    </tr>\n",
       "    <tr>\n",
       "      <th>2104</th>\n",
       "      <td>2018-11-06 11:43:06.182</td>\n",
       "      <td>FEK2018110618430421783090</td>\n",
       "      <td>463.0</td>\n",
       "    </tr>\n",
       "    <tr>\n",
       "      <th>2096</th>\n",
       "      <td>2018-11-06 11:42:01.856</td>\n",
       "      <td>FEK2018110618415984291066</td>\n",
       "      <td>460.0</td>\n",
       "    </tr>\n",
       "    <tr>\n",
       "      <th>2089</th>\n",
       "      <td>2018-11-06 11:40:28.050</td>\n",
       "      <td>FEK2018110618402653797093</td>\n",
       "      <td>506.0</td>\n",
       "    </tr>\n",
       "    <tr>\n",
       "      <th>2064</th>\n",
       "      <td>2018-11-06 11:34:35.036</td>\n",
       "      <td>FEK2018110618343311291125</td>\n",
       "      <td>426.0</td>\n",
       "    </tr>\n",
       "    <tr>\n",
       "      <th>2042</th>\n",
       "      <td>2018-11-06 11:30:14.359</td>\n",
       "      <td>FEK2018110618301200849091</td>\n",
       "      <td>469.0</td>\n",
       "    </tr>\n",
       "    <tr>\n",
       "      <th>2029</th>\n",
       "      <td>2018-11-06 11:28:27.176</td>\n",
       "      <td>FEK2018110618282567840933</td>\n",
       "      <td>422.0</td>\n",
       "    </tr>\n",
       "    <tr>\n",
       "      <th>2002</th>\n",
       "      <td>2018-11-06 11:23:56.284</td>\n",
       "      <td>FEK2018110618235455612243</td>\n",
       "      <td>516.0</td>\n",
       "    </tr>\n",
       "    <tr>\n",
       "      <th>1995</th>\n",
       "      <td>2018-11-06 11:23:05.930</td>\n",
       "      <td>FEK2018110618230393028244</td>\n",
       "      <td>504.0</td>\n",
       "    </tr>\n",
       "    <tr>\n",
       "      <th>1974</th>\n",
       "      <td>2018-11-06 11:18:56.930</td>\n",
       "      <td>FEK2018110618185485552793</td>\n",
       "      <td>483.0</td>\n",
       "    </tr>\n",
       "    <tr>\n",
       "      <th>1946</th>\n",
       "      <td>2018-11-06 11:14:27.013</td>\n",
       "      <td>FEK2018110618142522778153</td>\n",
       "      <td>503.0</td>\n",
       "    </tr>\n",
       "    <tr>\n",
       "      <th>1905</th>\n",
       "      <td>2018-11-06 11:06:49.179</td>\n",
       "      <td>FEK2018110618064716414948</td>\n",
       "      <td>488.0</td>\n",
       "    </tr>\n",
       "    <tr>\n",
       "      <th>1903</th>\n",
       "      <td>2018-11-06 11:06:42.684</td>\n",
       "      <td>FEK2018110618064062734973</td>\n",
       "      <td>430.0</td>\n",
       "    </tr>\n",
       "    <tr>\n",
       "      <th>1851</th>\n",
       "      <td>2018-11-06 10:58:04.111</td>\n",
       "      <td>FEK2018110617580232285229</td>\n",
       "      <td>495.0</td>\n",
       "    </tr>\n",
       "    <tr>\n",
       "      <th>1813</th>\n",
       "      <td>2018-11-06 10:53:27.954</td>\n",
       "      <td>FEK2018110617532519304236</td>\n",
       "      <td>420.0</td>\n",
       "    </tr>\n",
       "    <tr>\n",
       "      <th>1794</th>\n",
       "      <td>2018-11-06 10:50:50.524</td>\n",
       "      <td>FEK2018110617504893372825</td>\n",
       "      <td>437.0</td>\n",
       "    </tr>\n",
       "    <tr>\n",
       "      <th>1665</th>\n",
       "      <td>2018-11-06 10:27:33.399</td>\n",
       "      <td>FEK2018110617273148963326</td>\n",
       "      <td>430.0</td>\n",
       "    </tr>\n",
       "    <tr>\n",
       "      <th>1561</th>\n",
       "      <td>2018-11-06 10:06:50.093</td>\n",
       "      <td>FEK2018110617064760301161</td>\n",
       "      <td>489.0</td>\n",
       "    </tr>\n",
       "    <tr>\n",
       "      <th>1554</th>\n",
       "      <td>2018-11-06 10:05:35.105</td>\n",
       "      <td>FEK2018110617053351455868</td>\n",
       "      <td>429.0</td>\n",
       "    </tr>\n",
       "    <tr>\n",
       "      <th>1527</th>\n",
       "      <td>2018-11-06 09:58:22.690</td>\n",
       "      <td>FEK2018110616582070035868</td>\n",
       "      <td>444.0</td>\n",
       "    </tr>\n",
       "    <tr>\n",
       "      <th>1495</th>\n",
       "      <td>2018-11-06 09:50:44.863</td>\n",
       "      <td>FEK2018110616504247085948</td>\n",
       "      <td>485.0</td>\n",
       "    </tr>\n",
       "    <tr>\n",
       "      <th>1494</th>\n",
       "      <td>2018-11-06 09:50:40.475</td>\n",
       "      <td>FEK2018110616503855427536</td>\n",
       "      <td>463.0</td>\n",
       "    </tr>\n",
       "    <tr>\n",
       "      <th>1482</th>\n",
       "      <td>2018-11-06 09:46:57.025</td>\n",
       "      <td>FEK2018110616465515310007</td>\n",
       "      <td>495.0</td>\n",
       "    </tr>\n",
       "    <tr>\n",
       "      <th>1479</th>\n",
       "      <td>2018-11-06 09:46:18.614</td>\n",
       "      <td>FEK2018110616461699932636</td>\n",
       "      <td>487.0</td>\n",
       "    </tr>\n",
       "    <tr>\n",
       "      <th>1439</th>\n",
       "      <td>2018-11-06 09:37:58.357</td>\n",
       "      <td>FEK2018110616375603829129</td>\n",
       "      <td>484.0</td>\n",
       "    </tr>\n",
       "    <tr>\n",
       "      <th>1327</th>\n",
       "      <td>2018-11-06 09:13:55.593</td>\n",
       "      <td>FEK2018110616135311171816</td>\n",
       "      <td>531.0</td>\n",
       "    </tr>\n",
       "    <tr>\n",
       "      <th>1294</th>\n",
       "      <td>2018-11-06 09:09:03.453</td>\n",
       "      <td>FEK2018110616090102121223</td>\n",
       "      <td>477.0</td>\n",
       "    </tr>\n",
       "    <tr>\n",
       "      <th>1245</th>\n",
       "      <td>2018-11-06 08:59:02.275</td>\n",
       "      <td>FEK2018110615590097449813</td>\n",
       "      <td>444.0</td>\n",
       "    </tr>\n",
       "    <tr>\n",
       "      <th>1110</th>\n",
       "      <td>2018-11-06 08:26:08.180</td>\n",
       "      <td>FEK2018110615260649120998</td>\n",
       "      <td>419.0</td>\n",
       "    </tr>\n",
       "    <tr>\n",
       "      <th>1080</th>\n",
       "      <td>2018-11-06 08:16:34.130</td>\n",
       "      <td>FEK2018110615163205795955</td>\n",
       "      <td>426.0</td>\n",
       "    </tr>\n",
       "    <tr>\n",
       "      <th>1051</th>\n",
       "      <td>2018-11-06 08:07:11.289</td>\n",
       "      <td>FEK2018110615070959168205</td>\n",
       "      <td>481.0</td>\n",
       "    </tr>\n",
       "  </tbody>\n",
       "</table>\n",
       "</div>"
      ],
      "text/plain": [
       "                  createTime                riskOrderNo  score\n",
       "2714 2018-11-06 15:21:37.120  FEK2018110622213420660445  456.0\n",
       "2672 2018-11-06 14:54:40.959  FEK2018110621543958975347  421.0\n",
       "2664 2018-11-06 14:49:13.619  FEK2018110621491165697086  451.0\n",
       "2645 2018-11-06 14:39:52.104  FEK2018110621394915875259  440.0\n",
       "2632 2018-11-06 14:32:59.977  FEK2018110621325816859764  420.0\n",
       "2615 2018-11-06 14:25:19.044  FEK2018110621251688552668  500.0\n",
       "2569 2018-11-06 14:03:46.222  FEK2018110621034311220504  553.0\n",
       "2472 2018-11-06 13:33:58.830  FEK2018110620335668599896  425.0\n",
       "2443 2018-11-06 13:23:41.555  FEK2018110620233969328284  447.0\n",
       "2347 2018-11-06 12:52:34.135  FEK2018110619523226191732  485.0\n",
       "2345 2018-11-06 12:50:39.931  FEK2018110619503813717479  516.0\n",
       "2251 2018-11-06 12:23:30.756  FEK2018110619232900292397  460.0\n",
       "2225 2018-11-06 12:18:06.266  FEK2018110619180358541527  432.0\n",
       "2152 2018-11-06 11:54:49.004  FEK2018110618544735878751  442.0\n",
       "2113 2018-11-06 11:43:57.683  FEK2018110618435506551273  450.0\n",
       "2104 2018-11-06 11:43:06.182  FEK2018110618430421783090  463.0\n",
       "2096 2018-11-06 11:42:01.856  FEK2018110618415984291066  460.0\n",
       "2089 2018-11-06 11:40:28.050  FEK2018110618402653797093  506.0\n",
       "2064 2018-11-06 11:34:35.036  FEK2018110618343311291125  426.0\n",
       "2042 2018-11-06 11:30:14.359  FEK2018110618301200849091  469.0\n",
       "2029 2018-11-06 11:28:27.176  FEK2018110618282567840933  422.0\n",
       "2002 2018-11-06 11:23:56.284  FEK2018110618235455612243  516.0\n",
       "1995 2018-11-06 11:23:05.930  FEK2018110618230393028244  504.0\n",
       "1974 2018-11-06 11:18:56.930  FEK2018110618185485552793  483.0\n",
       "1946 2018-11-06 11:14:27.013  FEK2018110618142522778153  503.0\n",
       "1905 2018-11-06 11:06:49.179  FEK2018110618064716414948  488.0\n",
       "1903 2018-11-06 11:06:42.684  FEK2018110618064062734973  430.0\n",
       "1851 2018-11-06 10:58:04.111  FEK2018110617580232285229  495.0\n",
       "1813 2018-11-06 10:53:27.954  FEK2018110617532519304236  420.0\n",
       "1794 2018-11-06 10:50:50.524  FEK2018110617504893372825  437.0\n",
       "1665 2018-11-06 10:27:33.399  FEK2018110617273148963326  430.0\n",
       "1561 2018-11-06 10:06:50.093  FEK2018110617064760301161  489.0\n",
       "1554 2018-11-06 10:05:35.105  FEK2018110617053351455868  429.0\n",
       "1527 2018-11-06 09:58:22.690  FEK2018110616582070035868  444.0\n",
       "1495 2018-11-06 09:50:44.863  FEK2018110616504247085948  485.0\n",
       "1494 2018-11-06 09:50:40.475  FEK2018110616503855427536  463.0\n",
       "1482 2018-11-06 09:46:57.025  FEK2018110616465515310007  495.0\n",
       "1479 2018-11-06 09:46:18.614  FEK2018110616461699932636  487.0\n",
       "1439 2018-11-06 09:37:58.357  FEK2018110616375603829129  484.0\n",
       "1327 2018-11-06 09:13:55.593  FEK2018110616135311171816  531.0\n",
       "1294 2018-11-06 09:09:03.453  FEK2018110616090102121223  477.0\n",
       "1245 2018-11-06 08:59:02.275  FEK2018110615590097449813  444.0\n",
       "1110 2018-11-06 08:26:08.180  FEK2018110615260649120998  419.0\n",
       "1080 2018-11-06 08:16:34.130  FEK2018110615163205795955  426.0\n",
       "1051 2018-11-06 08:07:11.289  FEK2018110615070959168205  481.0"
      ]
     },
     "execution_count": 391,
     "metadata": {},
     "output_type": "execute_result"
    }
   ],
   "source": [
    "df[(df['createTime'].dt.day ==6)&(df['score']>418)&(df['createTime'].dt.hour > 7)&\n",
    "   (df['createTime'].dt.hour <16)]"
   ]
  },
  {
   "cell_type": "code",
   "execution_count": 474,
   "metadata": {},
   "outputs": [
    {
     "data": {
      "text/html": [
       "<div>\n",
       "<style scoped>\n",
       "    .dataframe tbody tr th:only-of-type {\n",
       "        vertical-align: middle;\n",
       "    }\n",
       "\n",
       "    .dataframe tbody tr th {\n",
       "        vertical-align: top;\n",
       "    }\n",
       "\n",
       "    .dataframe thead th {\n",
       "        text-align: right;\n",
       "    }\n",
       "</style>\n",
       "<table border=\"1\" class=\"dataframe\">\n",
       "  <thead>\n",
       "    <tr style=\"text-align: right;\">\n",
       "      <th></th>\n",
       "      <th>createTime</th>\n",
       "      <th>riskOrderNo</th>\n",
       "      <th>score</th>\n",
       "      <th>date</th>\n",
       "      <th>hour</th>\n",
       "    </tr>\n",
       "  </thead>\n",
       "  <tbody>\n",
       "    <tr>\n",
       "      <th>51412</th>\n",
       "      <td>2018-11-21 10:45:06.402</td>\n",
       "      <td>FEK2018112117450390428271</td>\n",
       "      <td>394.0</td>\n",
       "      <td>2018-11-21</td>\n",
       "      <td>10</td>\n",
       "    </tr>\n",
       "    <tr>\n",
       "      <th>51374</th>\n",
       "      <td>2018-11-21 10:28:29.683</td>\n",
       "      <td>FEK2018112117282770424258</td>\n",
       "      <td>392.0</td>\n",
       "      <td>2018-11-21</td>\n",
       "      <td>10</td>\n",
       "    </tr>\n",
       "    <tr>\n",
       "      <th>51371</th>\n",
       "      <td>2018-11-21 10:27:00.630</td>\n",
       "      <td>FEK2018112117265853163368</td>\n",
       "      <td>440.0</td>\n",
       "      <td>2018-11-21</td>\n",
       "      <td>10</td>\n",
       "    </tr>\n",
       "    <tr>\n",
       "      <th>51367</th>\n",
       "      <td>2018-11-21 10:22:42.128</td>\n",
       "      <td>FEK2018112117223946679199</td>\n",
       "      <td>302.0</td>\n",
       "      <td>2018-11-21</td>\n",
       "      <td>10</td>\n",
       "    </tr>\n",
       "    <tr>\n",
       "      <th>51353</th>\n",
       "      <td>2018-11-21 10:20:12.404</td>\n",
       "      <td>FEK2018112117200902334949</td>\n",
       "      <td>392.0</td>\n",
       "      <td>2018-11-21</td>\n",
       "      <td>10</td>\n",
       "    </tr>\n",
       "  </tbody>\n",
       "</table>\n",
       "</div>"
      ],
      "text/plain": [
       "                   createTime                riskOrderNo  score        date  \\\n",
       "51412 2018-11-21 10:45:06.402  FEK2018112117450390428271  394.0  2018-11-21   \n",
       "51374 2018-11-21 10:28:29.683  FEK2018112117282770424258  392.0  2018-11-21   \n",
       "51371 2018-11-21 10:27:00.630  FEK2018112117265853163368  440.0  2018-11-21   \n",
       "51367 2018-11-21 10:22:42.128  FEK2018112117223946679199  302.0  2018-11-21   \n",
       "51353 2018-11-21 10:20:12.404  FEK2018112117200902334949  392.0  2018-11-21   \n",
       "\n",
       "       hour  \n",
       "51412    10  \n",
       "51374    10  \n",
       "51371    10  \n",
       "51367    10  \n",
       "51353    10  "
      ]
     },
     "execution_count": 474,
     "metadata": {},
     "output_type": "execute_result"
    }
   ],
   "source": [
    "df['date'] = df['createTime'].dt.date\n",
    "\n",
    "df['hour'] = df['createTime'].dt.hour\n",
    "\n",
    "df.head()"
   ]
  },
  {
   "cell_type": "markdown",
   "metadata": {},
   "source": [
    "#  hour 分布"
   ]
  },
  {
   "cell_type": "code",
   "execution_count": 475,
   "metadata": {
    "collapsed": true
   },
   "outputs": [
    {
     "data": {
      "text/plain": [
       "<Container object of 24 artists>"
      ]
     },
     "execution_count": 475,
     "metadata": {},
     "output_type": "execute_result"
    },
    {
     "data": {
      "image/png": "[encoded data removed]",
      "text/plain": [
       "<matplotlib.figure.Figure at 0x166a239b0>"
      ]
     },
     "metadata": {},
     "output_type": "display_data"
    }
   ],
   "source": [
    "df_452 = df[df['score']>451].sort_values(by = 'createTime',ascending = False)\n",
    "df_452_plot = df_452.groupby('hour').count().reset_index()\n",
    "plt.bar(df_452_plot['hour'],df_452_plot['createTime'])"
   ]
  },
  {
   "cell_type": "code",
   "execution_count": 109,
   "metadata": {},
   "outputs": [
    {
     "data": {
      "text/plain": [
       "<Container object of 24 artists>"
      ]
     },
     "execution_count": 109,
     "metadata": {},
     "output_type": "execute_result"
    },
    {
     "data": {
      "image/png": "[encoded data removed]",
      "text/plain": [
       "<matplotlib.figure.Figure at 0x119634588>"
      ]
     },
     "metadata": {},
     "output_type": "display_data"
    }
   ],
   "source": [
    "df_452 = df[df['score']>451].sort_values(by = 'createTime',ascending = False)\n",
    "df_452_plot = df_452.groupby('hour').count().reset_index()\n",
    "plt.bar(df_452_plot['hour'],df_452_plot['createTime'])"
   ]
  },
  {
   "cell_type": "code",
   "execution_count": 113,
   "metadata": {},
   "outputs": [
    {
     "data": {
      "text/plain": [
       "<Container object of 23 artists>"
      ]
     },
     "execution_count": 113,
     "metadata": {},
     "output_type": "execute_result"
    },
    {
     "data": {
      "image/png": "[encoded data removed]",
      "text/plain": [
       "<matplotlib.figure.Figure at 0x1193d4160>"
      ]
     },
     "metadata": {},
     "output_type": "display_data"
    }
   ],
   "source": [
    "df_419 = df[(df['score']<452) &(df['score']>418)].sort_values(by = 'createTime',ascending = False)\n",
    "df_419_plot = df_419.groupby('hour').count().reset_index()\n",
    "plt.bar(df_419_plot['hour'],df_419_plot['createTime'])"
   ]
  },
  {
   "cell_type": "code",
   "execution_count": 116,
   "metadata": {},
   "outputs": [
    {
     "data": {
      "text/plain": [
       "<Container object of 24 artists>"
      ]
     },
     "execution_count": 116,
     "metadata": {},
     "output_type": "execute_result"
    },
    {
     "data": {
      "image/png": "[encoded data removed]",
      "text/plain": [
       "<matplotlib.figure.Figure at 0x12388c1d0>"
      ]
     },
     "metadata": {},
     "output_type": "display_data"
    }
   ],
   "source": [
    "df_400 = df[df['score']<419].sort_values(by = 'createTime',ascending = False)\n",
    "df_400_plot = df_400.groupby('hour').count().reset_index()\n",
    "plt.bar(df_400_plot['hour'],df_400_plot['createTime'])"
   ]
  },
  {
   "cell_type": "markdown",
   "metadata": {},
   "source": [
    "# 分数分布"
   ]
  },
  {
   "cell_type": "code",
   "execution_count": 1150,
   "metadata": {},
   "outputs": [],
   "source": [
    "df['bin'] = pd.cut(df['score'],[200,300,350,400,450,500,550,600] ).map(str).sort_values()"
   ]
  },
  {
   "cell_type": "code",
   "execution_count": 1151,
   "metadata": {},
   "outputs": [],
   "source": [
    "df_w1 = df[df['yq_time'].map(str).isin(['2018-11-06','2018-11-07','2018-11-08','2018-11-09','2018-11-10','2018-11-11'])]"
   ]
  },
  {
   "cell_type": "code",
   "execution_count": 1155,
   "metadata": {},
   "outputs": [
    {
     "data": {
      "text/plain": [
       "Text(0.5,1,'2018-11-06~11')"
      ]
     },
     "execution_count": 1155,
     "metadata": {},
     "output_type": "execute_result"
    },
    {
     "data": {
      "image/png": "[encoded data removed]",
      "text/plain": [
       "<matplotlib.figure.Figure at 0x1789e2160>"
      ]
     },
     "metadata": {},
     "output_type": "display_data"
    }
   ],
   "source": [
    "S_w1 = df_w1.groupby('bin').count().reset_index()\n",
    "plt.bar(S_w1['bin'],S_w1['createTime'])\n",
    "plt.title('2018-11-06~11')"
   ]
  },
  {
   "cell_type": "code",
   "execution_count": 1157,
   "metadata": {},
   "outputs": [
    {
     "data": {
      "text/plain": [
       "Text(0.5,1,'2018-11-12~18')"
      ]
     },
     "execution_count": 1157,
     "metadata": {},
     "output_type": "execute_result"
    },
    {
     "data": {
      "image/png": "[encoded data removed]",
      "text/plain": [
       "<matplotlib.figure.Figure at 0x178812748>"
      ]
     },
     "metadata": {},
     "output_type": "display_data"
    }
   ],
   "source": [
    "df_w2 = df[df['yq_time'].map(str).isin(['2018-11-12','2018-11-13','2018-11-14','2018-11-15','2018-11-16',\n",
    "                                        '2018-11-17','2018-11-18'])]\n",
    "S_w2 = df_w2.groupby('bin').count().reset_index()\n",
    "plt.bar(S_w2['bin'],S_w2['createTime'])\n",
    "plt.title('2018-11-12~18')"
   ]
  },
  {
   "cell_type": "code",
   "execution_count": 928,
   "metadata": {},
   "outputs": [
    {
     "data": {
      "text/plain": [
       "<Container object of 6 artists>"
      ]
     },
     "execution_count": 928,
     "metadata": {},
     "output_type": "execute_result"
    },
    {
     "data": {
      "image/png": "[encoded data removed]",
      "text/plain": [
       "<matplotlib.figure.Figure at 0x175ad0668>"
      ]
     },
     "metadata": {},
     "output_type": "display_data"
    }
   ],
   "source": [
    "S_plot = df.groupby('bin').count().reset_index()\n",
    "plt.bar(S_plot['bin'],S_plot['createTime'])"
   ]
  },
  {
   "cell_type": "code",
   "execution_count": 76,
   "metadata": {},
   "outputs": [
    {
     "data": {
      "text/plain": [
       "<Container object of 24 artists>"
      ]
     },
     "execution_count": 76,
     "metadata": {},
     "output_type": "execute_result"
    },
    {
     "data": {
      "image/png": "[encoded data removed]",
      "text/plain": [
       "<matplotlib.figure.Figure at 0x119f94a90>"
      ]
     },
     "metadata": {},
     "output_type": "display_data"
    }
   ],
   "source": [
    "plt.bar(df_s0_plot['hour'],df_s0_plot['createTime'])"
   ]
  },
  {
   "cell_type": "code",
   "execution_count": 57,
   "metadata": {},
   "outputs": [],
   "source": [
    "df_s0 = df_scorecard[df_scorecard['score']==0].sort_values(by = 'createTime',ascending = False)\n",
    "df_s0['hour'] = df_s0['createTime'].dt.hour\n",
    "\n",
    "df_s0_plot = df_s0.groupby('hour').count().reset_index()\n",
    "df_s0_plot"
   ]
  },
  {
   "cell_type": "code",
   "execution_count": null,
   "metadata": {},
   "outputs": [],
   "source": []
  },
  {
   "cell_type": "code",
   "execution_count": 167,
   "metadata": {},
   "outputs": [
    {
     "data": {
      "text/plain": [
       "0.36804308797127466"
      ]
     },
     "execution_count": 167,
     "metadata": {},
     "output_type": "execute_result"
    }
   ],
   "source": [
    "df_scorecard[df_scorecard['score']>418].shape[0]/df_scorecard[df_scorecard['score']>0].shape[0]"
   ]
  },
  {
   "cell_type": "code",
   "execution_count": 14,
   "metadata": {},
   "outputs": [
    {
     "data": {
      "text/plain": [
       "0.3649360421369451"
      ]
     },
     "execution_count": 14,
     "metadata": {},
     "output_type": "execute_result"
    }
   ],
   "source": [
    "df_scorecard[df_scorecard['score']>418].shape[0]/df_scorecard[df_scorecard['score']>0].shape[0]"
   ]
  },
  {
   "cell_type": "code",
   "execution_count": 8,
   "metadata": {},
   "outputs": [],
   "source": [
    "df = df_scorecard[df_scorecard['createTime'].dt.hour>7]"
   ]
  },
  {
   "cell_type": "code",
   "execution_count": 30,
   "metadata": {},
   "outputs": [
    {
     "data": {
      "text/plain": [
       "1934"
      ]
     },
     "execution_count": 30,
     "metadata": {},
     "output_type": "execute_result"
    }
   ],
   "source": [
    "df[df['score']>0].shape[0]"
   ]
  },
  {
   "cell_type": "code",
   "execution_count": 29,
   "metadata": {},
   "outputs": [
    {
     "data": {
      "text/plain": [
       "709"
      ]
     },
     "execution_count": 29,
     "metadata": {},
     "output_type": "execute_result"
    }
   ],
   "source": [
    "df[df['score']>418].shape[0]"
   ]
  },
  {
   "cell_type": "code",
   "execution_count": 66,
   "metadata": {},
   "outputs": [
    {
     "data": {
      "text/plain": [
       "0.3649360421369451"
      ]
     },
     "execution_count": 66,
     "metadata": {},
     "output_type": "execute_result"
    }
   ],
   "source": [
    "df[df['score']>418].shape[0]/df[df['score']>0].shape[0]"
   ]
  },
  {
   "cell_type": "code",
   "execution_count": 27,
   "metadata": {},
   "outputs": [
    {
     "data": {
      "text/plain": [
       "0.1980351602895553"
      ]
     },
     "execution_count": 27,
     "metadata": {},
     "output_type": "execute_result"
    }
   ],
   "source": [
    "df[df['score']>451].shape[0]/df[df['score']>0].shape[0]"
   ]
  },
  {
   "cell_type": "code",
   "execution_count": 161,
   "metadata": {},
   "outputs": [
    {
     "data": {
      "text/plain": [
       "0.19123252858958067"
      ]
     },
     "execution_count": 161,
     "metadata": {},
     "output_type": "execute_result"
    }
   ],
   "source": [
    "df[df['score']>451].shape[0]/df[df['score']>0].shape[0]"
   ]
  },
  {
   "cell_type": "code",
   "execution_count": 28,
   "metadata": {},
   "outputs": [
    {
     "data": {
      "text/plain": [
       "383"
      ]
     },
     "execution_count": 28,
     "metadata": {},
     "output_type": "execute_result"
    }
   ],
   "source": [
    "df[df['score']>451].shape[0]"
   ]
  },
  {
   "cell_type": "code",
   "execution_count": 83,
   "metadata": {},
   "outputs": [
    {
     "data": {
      "text/plain": [
       "0.1911211437170805"
      ]
     },
     "execution_count": 83,
     "metadata": {},
     "output_type": "execute_result"
    }
   ],
   "source": [
    "254/1329"
   ]
  },
  {
   "cell_type": "code",
   "execution_count": 84,
   "metadata": {},
   "outputs": [
    {
     "data": {
      "text/plain": [
       "0.2606471030850263"
      ]
     },
     "execution_count": 84,
     "metadata": {},
     "output_type": "execute_result"
    }
   ],
   "source": [
    "((485-254)*0.4+254)/1329"
   ]
  },
  {
   "cell_type": "markdown",
   "metadata": {},
   "source": [
    "# 标签后的分数分布"
   ]
  },
  {
   "cell_type": "code",
   "execution_count": 596,
   "metadata": {},
   "outputs": [],
   "source": [
    "df_type_sc_dis = df.copy()"
   ]
  },
  {
   "cell_type": "code",
   "execution_count": 597,
   "metadata": {},
   "outputs": [],
   "source": [
    "df_type_sc_dis['bin'] = pd.cut(df_type_sc_dis['score'],[200,300,350,400,450,500,600] ).map(str).sort_values()"
   ]
  },
  {
   "cell_type": "code",
   "execution_count": 617,
   "metadata": {},
   "outputs": [],
   "source": [
    "df_type_sc_dis_S3 = df_type_sc_dis[df_type_sc_dis['clientTypeCheck']=='S3']"
   ]
  },
  {
   "cell_type": "code",
   "execution_count": 626,
   "metadata": {},
   "outputs": [
    {
     "data": {
      "text/plain": [
       "Text(0.5,1,'S3 Score')"
      ]
     },
     "execution_count": 626,
     "metadata": {},
     "output_type": "execute_result"
    },
    {
     "data": {
      "image/png": "[encoded data removed]",
      "text/plain": [
       "<matplotlib.figure.Figure at 0x177ba74a8>"
      ]
     },
     "metadata": {},
     "output_type": "display_data"
    }
   ],
   "source": [
    "S3_plot = df_type_sc_dis_S3.groupby('bin').count().reset_index()\n",
    "plt.bar(S3_plot['bin'],S3_plot['score'],)\n",
    "plt.title('S3 Score')"
   ]
  },
  {
   "cell_type": "code",
   "execution_count": 627,
   "metadata": {},
   "outputs": [
    {
     "data": {
      "text/plain": [
       "Text(0.5,1,'S1 Score')"
      ]
     },
     "execution_count": 627,
     "metadata": {},
     "output_type": "execute_result"
    },
    {
     "data": {
      "image/png": "[encoded data removed]",
      "text/plain": [
       "<matplotlib.figure.Figure at 0x17f0defd0>"
      ]
     },
     "metadata": {},
     "output_type": "display_data"
    }
   ],
   "source": [
    "df_type_sc_dis_S1 = df_type_sc_dis[df_type_sc_dis['clientTypeCheck']=='S1']\n",
    "S1_plot = df_type_sc_dis_S1.groupby('bin').count().reset_index()\n",
    "plt.bar(S1_plot['bin'],S1_plot['createTime'])\n",
    "plt.title('S1 Score')"
   ]
  },
  {
   "cell_type": "markdown",
   "metadata": {},
   "source": [
    "# 评分卡逾期率监控"
   ]
  },
  {
   "cell_type": "code",
   "execution_count": 977,
   "metadata": {},
   "outputs": [
    {
     "data": {
      "text/html": [
       "<div>\n",
       "<style scoped>\n",
       "    .dataframe tbody tr th:only-of-type {\n",
       "        vertical-align: middle;\n",
       "    }\n",
       "\n",
       "    .dataframe tbody tr th {\n",
       "        vertical-align: top;\n",
       "    }\n",
       "\n",
       "    .dataframe thead th {\n",
       "        text-align: right;\n",
       "    }\n",
       "</style>\n",
       "<table border=\"1\" class=\"dataframe\">\n",
       "  <thead>\n",
       "    <tr style=\"text-align: right;\">\n",
       "      <th></th>\n",
       "      <th>uid</th>\n",
       "      <th>loan_order_no</th>\n",
       "      <th>risk_order_no</th>\n",
       "      <th>loan_money_date</th>\n",
       "      <th>audit_order_no</th>\n",
       "      <th>over_due_days</th>\n",
       "      <th>status</th>\n",
       "    </tr>\n",
       "  </thead>\n",
       "  <tbody>\n",
       "    <tr>\n",
       "      <th>0</th>\n",
       "      <td>1050022321592406018</td>\n",
       "      <td>JKD2018110517770454</td>\n",
       "      <td>FEK2018110500093717776966</td>\n",
       "      <td>2018-11-05 16:52:01</td>\n",
       "      <td>JKD2018110517770454</td>\n",
       "      <td>4</td>\n",
       "      <td>6</td>\n",
       "    </tr>\n",
       "    <tr>\n",
       "      <th>1</th>\n",
       "      <td>1034356915716403201</td>\n",
       "      <td>JKD2018110519944376</td>\n",
       "      <td>FEK2018110500260219943801</td>\n",
       "      <td>2018-11-05 09:28:01</td>\n",
       "      <td>JKD2018110519944376</td>\n",
       "      <td>0</td>\n",
       "      <td>4</td>\n",
       "    </tr>\n",
       "  </tbody>\n",
       "</table>\n",
       "</div>"
      ],
      "text/plain": [
       "                   uid        loan_order_no              risk_order_no  \\\n",
       "0  1050022321592406018  JKD2018110517770454  FEK2018110500093717776966   \n",
       "1  1034356915716403201  JKD2018110519944376  FEK2018110500260219943801   \n",
       "\n",
       "      loan_money_date       audit_order_no  over_due_days  status  \n",
       "0 2018-11-05 16:52:01  JKD2018110517770454              4       6  \n",
       "1 2018-11-05 09:28:01  JKD2018110519944376              0       4  "
      ]
     },
     "execution_count": 977,
     "metadata": {},
     "output_type": "execute_result"
    }
   ],
   "source": [
    "df_loan_due.head(2)"
   ]
  },
  {
   "cell_type": "code",
   "execution_count": 981,
   "metadata": {},
   "outputs": [
    {
     "data": {
      "text/plain": [
       "(3129, 4)"
      ]
     },
     "execution_count": 981,
     "metadata": {},
     "output_type": "execute_result"
    }
   ],
   "source": [
    "df.shape"
   ]
  },
  {
   "cell_type": "code",
   "execution_count": null,
   "metadata": {},
   "outputs": [],
   "source": [
    "df_due = pd.merge(df, df_loan_due, how = 'left',\n",
    "                  left_on = 'riskOrderNo', right_on = 'risk_order_no')"
   ]
  },
  {
   "cell_type": "code",
   "execution_count": 1164,
   "metadata": {},
   "outputs": [
    {
     "data": {
      "text/plain": [
       "(3328, 11)"
      ]
     },
     "execution_count": 1164,
     "metadata": {},
     "output_type": "execute_result"
    }
   ],
   "source": [
    "df_due.shape"
   ]
  },
  {
   "cell_type": "code",
   "execution_count": null,
   "metadata": {},
   "outputs": [],
   "source": [
    "df_check = df_due[(df_due['createTime']>'2018-11-6 08:00:00')&(df_due['status'].isin([4,6]))]\n",
    "\n",
    "df_check['YN_date'] = df_check['loan_money_date'].dt.date"
   ]
  },
  {
   "cell_type": "code",
   "execution_count": 1085,
   "metadata": {},
   "outputs": [
    {
     "data": {
      "text/html": [
       "<div>\n",
       "<style scoped>\n",
       "    .dataframe tbody tr th:only-of-type {\n",
       "        vertical-align: middle;\n",
       "    }\n",
       "\n",
       "    .dataframe tbody tr th {\n",
       "        vertical-align: top;\n",
       "    }\n",
       "\n",
       "    .dataframe thead th {\n",
       "        text-align: right;\n",
       "    }\n",
       "</style>\n",
       "<table border=\"1\" class=\"dataframe\">\n",
       "  <thead>\n",
       "    <tr style=\"text-align: right;\">\n",
       "      <th></th>\n",
       "      <th>clientTypeCheck</th>\n",
       "      <th>createTime</th>\n",
       "      <th>riskOrderNo</th>\n",
       "      <th>score</th>\n",
       "      <th>uid</th>\n",
       "      <th>loan_order_no</th>\n",
       "      <th>risk_order_no</th>\n",
       "      <th>loan_money_date</th>\n",
       "      <th>audit_order_no</th>\n",
       "      <th>over_due_days</th>\n",
       "      <th>status</th>\n",
       "    </tr>\n",
       "  </thead>\n",
       "  <tbody>\n",
       "    <tr>\n",
       "      <th>895</th>\n",
       "      <td>[S3, N1, N7]</td>\n",
       "      <td>2018-11-17 03:33:45.273</td>\n",
       "      <td>FEK2018111710334261020008</td>\n",
       "      <td>461.0</td>\n",
       "      <td>1.063634e+18</td>\n",
       "      <td>JKD2018111761026492</td>\n",
       "      <td>FEK2018111710334261020008</td>\n",
       "      <td>2018-11-17 11:30:08</td>\n",
       "      <td>JKD2018111761026492</td>\n",
       "      <td>0.0</td>\n",
       "      <td>4.0</td>\n",
       "    </tr>\n",
       "    <tr>\n",
       "      <th>1238</th>\n",
       "      <td>[S1, K6-1, K6-2]</td>\n",
       "      <td>2018-11-15 00:13:26.132</td>\n",
       "      <td>FEK2018111507132284228232</td>\n",
       "      <td>469.0</td>\n",
       "      <td>1.043299e+18</td>\n",
       "      <td>JKD2018111584228801</td>\n",
       "      <td>FEK2018111507132284228232</td>\n",
       "      <td>2018-11-15 11:02:01</td>\n",
       "      <td>JKD2018111584228801</td>\n",
       "      <td>0.0</td>\n",
       "      <td>4.0</td>\n",
       "    </tr>\n",
       "    <tr>\n",
       "      <th>1244</th>\n",
       "      <td>[S3, K6-1, K6-2, M5]</td>\n",
       "      <td>2018-11-14 23:49:31.251</td>\n",
       "      <td>FEK2018111506492819883508</td>\n",
       "      <td>482.0</td>\n",
       "      <td>1.061532e+18</td>\n",
       "      <td>JKD2018111519884443</td>\n",
       "      <td>FEK2018111506492819883508</td>\n",
       "      <td>2018-11-15 10:49:01</td>\n",
       "      <td>JKD2018111519884443</td>\n",
       "      <td>0.0</td>\n",
       "      <td>4.0</td>\n",
       "    </tr>\n",
       "    <tr>\n",
       "      <th>1253</th>\n",
       "      <td>[S11, N4]</td>\n",
       "      <td>2018-11-14 18:57:55.840</td>\n",
       "      <td>FEK2018111501575383615668</td>\n",
       "      <td>483.0</td>\n",
       "      <td>1.058412e+18</td>\n",
       "      <td>JKD2018111583612860</td>\n",
       "      <td>FEK2018111501575383615668</td>\n",
       "      <td>2018-11-15 11:23:01</td>\n",
       "      <td>JKD2018111583612860</td>\n",
       "      <td>1.0</td>\n",
       "      <td>6.0</td>\n",
       "    </tr>\n",
       "    <tr>\n",
       "      <th>1326</th>\n",
       "      <td>[S11, N4]</td>\n",
       "      <td>2018-11-14 08:42:45.963</td>\n",
       "      <td>FEK2018111415424376825702</td>\n",
       "      <td>427.0</td>\n",
       "      <td>1.053214e+18</td>\n",
       "      <td>JKD2018111476826865</td>\n",
       "      <td>FEK2018111415424376825702</td>\n",
       "      <td>2018-11-14 16:02:01</td>\n",
       "      <td>JKD2018111476826865</td>\n",
       "      <td>0.0</td>\n",
       "      <td>4.0</td>\n",
       "    </tr>\n",
       "  </tbody>\n",
       "</table>\n",
       "</div>"
      ],
      "text/plain": [
       "           clientTypeCheck              createTime                riskOrderNo  \\\n",
       "895           [S3, N1, N7] 2018-11-17 03:33:45.273  FEK2018111710334261020008   \n",
       "1238      [S1, K6-1, K6-2] 2018-11-15 00:13:26.132  FEK2018111507132284228232   \n",
       "1244  [S3, K6-1, K6-2, M5] 2018-11-14 23:49:31.251  FEK2018111506492819883508   \n",
       "1253             [S11, N4] 2018-11-14 18:57:55.840  FEK2018111501575383615668   \n",
       "1326             [S11, N4] 2018-11-14 08:42:45.963  FEK2018111415424376825702   \n",
       "\n",
       "      score           uid        loan_order_no              risk_order_no  \\\n",
       "895   461.0  1.063634e+18  JKD2018111761026492  FEK2018111710334261020008   \n",
       "1238  469.0  1.043299e+18  JKD2018111584228801  FEK2018111507132284228232   \n",
       "1244  482.0  1.061532e+18  JKD2018111519884443  FEK2018111506492819883508   \n",
       "1253  483.0  1.058412e+18  JKD2018111583612860  FEK2018111501575383615668   \n",
       "1326  427.0  1.053214e+18  JKD2018111476826865  FEK2018111415424376825702   \n",
       "\n",
       "         loan_money_date       audit_order_no  over_due_days  status  \n",
       "895  2018-11-17 11:30:08  JKD2018111761026492            0.0     4.0  \n",
       "1238 2018-11-15 11:02:01  JKD2018111584228801            0.0     4.0  \n",
       "1244 2018-11-15 10:49:01  JKD2018111519884443            0.0     4.0  \n",
       "1253 2018-11-15 11:23:01  JKD2018111583612860            1.0     6.0  \n",
       "1326 2018-11-14 16:02:01  JKD2018111476826865            0.0     4.0  "
      ]
     },
     "execution_count": 1085,
     "metadata": {},
     "output_type": "execute_result"
    }
   ],
   "source": [
    "df_check.head()"
   ]
  },
  {
   "cell_type": "code",
   "execution_count": 1175,
   "metadata": {},
   "outputs": [
    {
     "data": {
      "text/html": [
       "<div>\n",
       "<style scoped>\n",
       "    .dataframe tbody tr th:only-of-type {\n",
       "        vertical-align: middle;\n",
       "    }\n",
       "\n",
       "    .dataframe tbody tr th {\n",
       "        vertical-align: top;\n",
       "    }\n",
       "\n",
       "    .dataframe thead th {\n",
       "        text-align: right;\n",
       "    }\n",
       "</style>\n",
       "<table border=\"1\" class=\"dataframe\">\n",
       "  <thead>\n",
       "    <tr style=\"text-align: right;\">\n",
       "      <th></th>\n",
       "      <th>status</th>\n",
       "      <th>over_due_days</th>\n",
       "      <th>riskOrderNo</th>\n",
       "    </tr>\n",
       "  </thead>\n",
       "  <tbody>\n",
       "    <tr>\n",
       "      <th>0</th>\n",
       "      <td>4.0</td>\n",
       "      <td>0.0</td>\n",
       "      <td>31</td>\n",
       "    </tr>\n",
       "    <tr>\n",
       "      <th>1</th>\n",
       "      <td>6.0</td>\n",
       "      <td>1.0</td>\n",
       "      <td>22</td>\n",
       "    </tr>\n",
       "  </tbody>\n",
       "</table>\n",
       "</div>"
      ],
      "text/plain": [
       "   status  over_due_days  riskOrderNo\n",
       "0     4.0            0.0           31\n",
       "1     6.0            1.0           22"
      ]
     },
     "execution_count": 1175,
     "metadata": {},
     "output_type": "execute_result"
    }
   ],
   "source": [
    "#9号全部\n",
    "d_ck = df_check[df_check['YN_date'].map(str) ==\n",
    "         '2018-11-09'][['riskOrderNo','status','over_due_days']]\n",
    "\n",
    "d_ck1 = d_ck.groupby(['status','over_due_days']).count().reset_index()\n",
    "d_ck1"
   ]
  },
  {
   "cell_type": "code",
   "execution_count": 1176,
   "metadata": {},
   "outputs": [
    {
     "data": {
      "text/html": [
       "<div>\n",
       "<style scoped>\n",
       "    .dataframe tbody tr th:only-of-type {\n",
       "        vertical-align: middle;\n",
       "    }\n",
       "\n",
       "    .dataframe tbody tr th {\n",
       "        vertical-align: top;\n",
       "    }\n",
       "\n",
       "    .dataframe thead th {\n",
       "        text-align: right;\n",
       "    }\n",
       "</style>\n",
       "<table border=\"1\" class=\"dataframe\">\n",
       "  <thead>\n",
       "    <tr style=\"text-align: right;\">\n",
       "      <th></th>\n",
       "      <th>status</th>\n",
       "      <th>over_due_days</th>\n",
       "      <th>riskOrderNo</th>\n",
       "    </tr>\n",
       "  </thead>\n",
       "  <tbody>\n",
       "    <tr>\n",
       "      <th>0</th>\n",
       "      <td>4.0</td>\n",
       "      <td>0.0</td>\n",
       "      <td>24</td>\n",
       "    </tr>\n",
       "    <tr>\n",
       "      <th>1</th>\n",
       "      <td>6.0</td>\n",
       "      <td>1.0</td>\n",
       "      <td>13</td>\n",
       "    </tr>\n",
       "  </tbody>\n",
       "</table>\n",
       "</div>"
      ],
      "text/plain": [
       "   status  over_due_days  riskOrderNo\n",
       "0     4.0            0.0           24\n",
       "1     6.0            1.0           13"
      ]
     },
     "execution_count": 1176,
     "metadata": {},
     "output_type": "execute_result"
    }
   ],
   "source": [
    "#9号452分\n",
    "d_ck_452 = df_check[(df_check['YN_date'].map(str) == '2018-11-09') & (df_check['score']>451)]\\\n",
    "                    [['riskOrderNo','status','over_due_days']]\n",
    "\n",
    "d_ck_452_1 = d_ck_452.groupby(['status','over_due_days']).count().reset_index()\n",
    "d_ck_452_1"
   ]
  },
  {
   "cell_type": "code",
   "execution_count": 1168,
   "metadata": {},
   "outputs": [
    {
     "data": {
      "text/html": [
       "<div>\n",
       "<style scoped>\n",
       "    .dataframe tbody tr th:only-of-type {\n",
       "        vertical-align: middle;\n",
       "    }\n",
       "\n",
       "    .dataframe tbody tr th {\n",
       "        vertical-align: top;\n",
       "    }\n",
       "\n",
       "    .dataframe thead th {\n",
       "        text-align: right;\n",
       "    }\n",
       "</style>\n",
       "<table border=\"1\" class=\"dataframe\">\n",
       "  <thead>\n",
       "    <tr style=\"text-align: right;\">\n",
       "      <th></th>\n",
       "      <th>status</th>\n",
       "      <th>over_due_days</th>\n",
       "      <th>riskOrderNo</th>\n",
       "    </tr>\n",
       "  </thead>\n",
       "  <tbody>\n",
       "    <tr>\n",
       "      <th>0</th>\n",
       "      <td>4.0</td>\n",
       "      <td>0.0</td>\n",
       "      <td>27</td>\n",
       "    </tr>\n",
       "    <tr>\n",
       "      <th>1</th>\n",
       "      <td>4.0</td>\n",
       "      <td>1.0</td>\n",
       "      <td>5</td>\n",
       "    </tr>\n",
       "    <tr>\n",
       "      <th>2</th>\n",
       "      <td>4.0</td>\n",
       "      <td>2.0</td>\n",
       "      <td>3</td>\n",
       "    </tr>\n",
       "    <tr>\n",
       "      <th>3</th>\n",
       "      <td>6.0</td>\n",
       "      <td>3.0</td>\n",
       "      <td>17</td>\n",
       "    </tr>\n",
       "  </tbody>\n",
       "</table>\n",
       "</div>"
      ],
      "text/plain": [
       "   status  over_due_days  riskOrderNo\n",
       "0     4.0            0.0           27\n",
       "1     4.0            1.0            5\n",
       "2     4.0            2.0            3\n",
       "3     6.0            3.0           17"
      ]
     },
     "execution_count": 1168,
     "metadata": {},
     "output_type": "execute_result"
    }
   ],
   "source": [
    "#11月7日全部\n",
    "d_ck = df_check[df_check['YN_date'].map(str) ==\n",
    "         '2018-11-07'][['riskOrderNo','status','over_due_days']]\n",
    "\n",
    "d_ck1 = d_ck.groupby(['status','over_due_days']).count().reset_index()\n",
    "d_ck1"
   ]
  },
  {
   "cell_type": "code",
   "execution_count": 1169,
   "metadata": {},
   "outputs": [
    {
     "data": {
      "text/html": [
       "<div>\n",
       "<style scoped>\n",
       "    .dataframe tbody tr th:only-of-type {\n",
       "        vertical-align: middle;\n",
       "    }\n",
       "\n",
       "    .dataframe tbody tr th {\n",
       "        vertical-align: top;\n",
       "    }\n",
       "\n",
       "    .dataframe thead th {\n",
       "        text-align: right;\n",
       "    }\n",
       "</style>\n",
       "<table border=\"1\" class=\"dataframe\">\n",
       "  <thead>\n",
       "    <tr style=\"text-align: right;\">\n",
       "      <th></th>\n",
       "      <th>status</th>\n",
       "      <th>over_due_days</th>\n",
       "      <th>riskOrderNo</th>\n",
       "    </tr>\n",
       "  </thead>\n",
       "  <tbody>\n",
       "    <tr>\n",
       "      <th>0</th>\n",
       "      <td>4.0</td>\n",
       "      <td>0.0</td>\n",
       "      <td>14</td>\n",
       "    </tr>\n",
       "    <tr>\n",
       "      <th>1</th>\n",
       "      <td>4.0</td>\n",
       "      <td>1.0</td>\n",
       "      <td>4</td>\n",
       "    </tr>\n",
       "    <tr>\n",
       "      <th>2</th>\n",
       "      <td>4.0</td>\n",
       "      <td>2.0</td>\n",
       "      <td>3</td>\n",
       "    </tr>\n",
       "    <tr>\n",
       "      <th>3</th>\n",
       "      <td>6.0</td>\n",
       "      <td>3.0</td>\n",
       "      <td>12</td>\n",
       "    </tr>\n",
       "  </tbody>\n",
       "</table>\n",
       "</div>"
      ],
      "text/plain": [
       "   status  over_due_days  riskOrderNo\n",
       "0     4.0            0.0           14\n",
       "1     4.0            1.0            4\n",
       "2     4.0            2.0            3\n",
       "3     6.0            3.0           12"
      ]
     },
     "execution_count": 1169,
     "metadata": {},
     "output_type": "execute_result"
    }
   ],
   "source": [
    "d_ck_452 = df_check[(df_check['YN_date'].map(str) == '2018-11-07') & (df_check['score']>451)]\\\n",
    "                    [['riskOrderNo','status','over_due_days']]\n",
    "\n",
    "d_ck_452_1 = d_ck_452.groupby(['status','over_due_days']).count().reset_index()\n",
    "d_ck_452_1"
   ]
  },
  {
   "cell_type": "code",
   "execution_count": null,
   "metadata": {},
   "outputs": [],
   "source": [
    "# 8号全部\n",
    "d_ck = df_check[df_check['YN_date'].map(str) ==\n",
    "         '2018-11-08'][['riskOrderNo','status','over_due_days']]\n",
    "\n",
    "d_ck1 = d_ck.groupby(['status','over_due_days']).count().reset_index()\n",
    "d_ck1"
   ]
  },
  {
   "cell_type": "code",
   "execution_count": null,
   "metadata": {},
   "outputs": [],
   "source": [
    "d_ck_452 = df_check[(df_check['YN_date'].map(str) == '2018-11-08') & (df_check['score']>451)]\\\n",
    "                    [['riskOrderNo','status','over_due_days']]\n",
    "\n",
    "d_ck_452_1 = d_ck_452.groupby(['status','over_due_days']).count().reset_index()\n",
    "d_ck_452_1"
   ]
  },
  {
   "cell_type": "markdown",
   "metadata": {},
   "source": [
    "# 拒绝原因"
   ]
  },
  {
   "cell_type": "code",
   "execution_count": 915,
   "metadata": {},
   "outputs": [],
   "source": [
    "sql_rejeck = \"select risk_order_no,loan_order_no,remark,code from t_risk_order \\\n",
    "where status=4 and remark is not null and create_time between '2018-11-07 ' and '2018-11-09'\""
   ]
  },
  {
   "cell_type": "code",
   "execution_count": 916,
   "metadata": {},
   "outputs": [],
   "source": [
    "# 执行SQL语句\n",
    "cur.execute(sql_rejeck)\n",
    "# 获取所有记录列表\n",
    "results = cur.fetchall()\n",
    "\n",
    "df_rej = pd.DataFrame(list(results),columns= ['risk_order_no', 'loan_order_no','remark','code'])"
   ]
  },
  {
   "cell_type": "code",
   "execution_count": 902,
   "metadata": {},
   "outputs": [
    {
     "data": {
      "text/html": [
       "<div>\n",
       "<style scoped>\n",
       "    .dataframe tbody tr th:only-of-type {\n",
       "        vertical-align: middle;\n",
       "    }\n",
       "\n",
       "    .dataframe tbody tr th {\n",
       "        vertical-align: top;\n",
       "    }\n",
       "\n",
       "    .dataframe thead th {\n",
       "        text-align: right;\n",
       "    }\n",
       "</style>\n",
       "<table border=\"1\" class=\"dataframe\">\n",
       "  <thead>\n",
       "    <tr style=\"text-align: right;\">\n",
       "      <th></th>\n",
       "      <th>clientTypeCheck</th>\n",
       "      <th>createTime</th>\n",
       "      <th>riskOrderNo</th>\n",
       "      <th>score</th>\n",
       "      <th>bin</th>\n",
       "    </tr>\n",
       "  </thead>\n",
       "  <tbody>\n",
       "    <tr>\n",
       "      <th>53240</th>\n",
       "      <td>S11</td>\n",
       "      <td>2018-11-22 06:30:08.858</td>\n",
       "      <td>FEK2018112213300653304003</td>\n",
       "      <td>482.0</td>\n",
       "      <td>(450, 500]</td>\n",
       "    </tr>\n",
       "    <tr>\n",
       "      <th>53216</th>\n",
       "      <td></td>\n",
       "      <td>2018-11-22 06:27:08.547</td>\n",
       "      <td>FEK2018112213270582252431</td>\n",
       "      <td>437.0</td>\n",
       "      <td>(400, 450]</td>\n",
       "    </tr>\n",
       "    <tr>\n",
       "      <th>53119</th>\n",
       "      <td>S1</td>\n",
       "      <td>2018-11-22 06:08:44.126</td>\n",
       "      <td>FEK2018112213084143653028</td>\n",
       "      <td>424.0</td>\n",
       "      <td>(400, 450]</td>\n",
       "    </tr>\n",
       "  </tbody>\n",
       "</table>\n",
       "</div>"
      ],
      "text/plain": [
       "      clientTypeCheck              createTime                riskOrderNo  \\\n",
       "53240             S11 2018-11-22 06:30:08.858  FEK2018112213300653304003   \n",
       "53216                 2018-11-22 06:27:08.547  FEK2018112213270582252431   \n",
       "53119              S1 2018-11-22 06:08:44.126  FEK2018112213084143653028   \n",
       "\n",
       "       score         bin  \n",
       "53240  482.0  (450, 500]  \n",
       "53216  437.0  (400, 450]  \n",
       "53119  424.0  (400, 450]  "
      ]
     },
     "execution_count": 902,
     "metadata": {},
     "output_type": "execute_result"
    }
   ],
   "source": [
    "df_xs = df[(df['score']>418)]\n",
    "df_xs.head(3)"
   ]
  },
  {
   "cell_type": "code",
   "execution_count": 903,
   "metadata": {},
   "outputs": [
    {
     "data": {
      "text/plain": [
       "(1071, 5)"
      ]
     },
     "execution_count": 903,
     "metadata": {},
     "output_type": "execute_result"
    }
   ],
   "source": [
    "df_xs.shape"
   ]
  },
  {
   "cell_type": "code",
   "execution_count": 918,
   "metadata": {},
   "outputs": [],
   "source": [
    "df_cl = pd.merge(df_rej, df_xs, left_on = 'risk_order_no', right_on = 'riskOrderNo', how = 'left')\n",
    "\n",
    "df_cl = df_cl[df_cl['score']>0]\n",
    "\n",
    "df_cl = df_cl.drop(['bin','riskOrderNo'],1)"
   ]
  },
  {
   "cell_type": "code",
   "execution_count": 921,
   "metadata": {
    "collapsed": true
   },
   "outputs": [
    {
     "data": {
      "text/plain": [
       "视频不符要求                  18\n",
       "身份证不符要求                 15\n",
       "K1标识的职业信审核实不符            8\n",
       "如在电核询问中前后信息不符、交叉验证不符     6\n",
       "还款能力不足                   4\n",
       "联系人电话异常                  4\n",
       "申请人沟通异常                  4\n",
       "联系人虚假                    3\n",
       "亲属核实异常                   2\n",
       "公司电话异常                   1\n",
       "单位电话虚假                   1\n",
       "K1标识的职业信审核实不符;单位电话虚假     1\n",
       "资料虚假                     1\n",
       "身份证不符要求;视频不符要求           1\n",
       "Name: remark, dtype: int64"
      ]
     },
     "execution_count": 921,
     "metadata": {},
     "output_type": "execute_result"
    }
   ],
   "source": [
    "df_cl['remark'].value_counts()"
   ]
  },
  {
   "cell_type": "code",
   "execution_count": 923,
   "metadata": {},
   "outputs": [],
   "source": [
    "df_cl_452 = df_cl[df_cl['score']>451]\n",
    "df_cl_419 = df_cl[df_cl['score']<452]"
   ]
  },
  {
   "cell_type": "code",
   "execution_count": 925,
   "metadata": {},
   "outputs": [
    {
     "data": {
      "text/plain": [
       "身份证不符要求                 10\n",
       "视频不符要求                   9\n",
       "K1标识的职业信审核实不符            8\n",
       "如在电核询问中前后信息不符、交叉验证不符     6\n",
       "申请人沟通异常                  4\n",
       "还款能力不足                   4\n",
       "联系人电话异常                  3\n",
       "联系人虚假                    3\n",
       "亲属核实异常                   2\n",
       "K1标识的职业信审核实不符;单位电话虚假     1\n",
       "资料虚假                     1\n",
       "公司电话异常                   1\n",
       "Name: remark, dtype: int64"
      ]
     },
     "execution_count": 925,
     "metadata": {},
     "output_type": "execute_result"
    }
   ],
   "source": [
    "df_cl_419['remark'].value_counts()"
   ]
  },
  {
   "cell_type": "code",
   "execution_count": 926,
   "metadata": {},
   "outputs": [
    {
     "data": {
      "text/plain": [
       "视频不符要求            9\n",
       "身份证不符要求           5\n",
       "身份证不符要求;视频不符要求    1\n",
       "联系人电话异常           1\n",
       "单位电话虚假            1\n",
       "Name: remark, dtype: int64"
      ]
     },
     "execution_count": 926,
     "metadata": {},
     "output_type": "execute_result"
    }
   ],
   "source": [
    "df_cl_452['remark'].value_counts()"
   ]
  },
  {
   "cell_type": "markdown",
   "metadata": {},
   "source": [
    "#分组查看风险标签"
   ]
  },
  {
   "cell_type": "code",
   "execution_count": 969,
   "metadata": {},
   "outputs": [],
   "source": [
    "df_451_riskMark = df[df['score']>451]\n",
    "df_419_riskMark = df[(df['score']>418)&(df['score']<452)]"
   ]
  },
  {
   "cell_type": "code",
   "execution_count": 959,
   "metadata": {},
   "outputs": [],
   "source": [
    "df_451_due = pd.merge(df_451_riskMark, df_loan_due, how = 'left',\n",
    "                  left_on = 'riskOrderNo', right_on = 'risk_order_no')\n",
    "\n",
    "df_451_due[(df_451_due['over_due_days']>=0 )& (df_451_due['status'].isin([4,6]))].to_csv('riskmark451.csv')"
   ]
  },
  {
   "cell_type": "code",
   "execution_count": 970,
   "metadata": {},
   "outputs": [],
   "source": [
    "df_419_due = pd.merge(df_419_riskMark, df_loan_due, how = 'left',\n",
    "                  left_on = 'riskOrderNo', right_on = 'risk_order_no')\n",
    "\n",
    "df_419_due[(df_419_due['over_due_days']>=0 )& (df_419_due['status'].isin([4,6]))].to_csv('riskmark419.csv')"
   ]
  },
  {
   "cell_type": "markdown",
   "metadata": {},
   "source": [
    "#分新老户查看逾期率"
   ]
  },
  {
   "cell_type": "code",
   "execution_count": 973,
   "metadata": {},
   "outputs": [],
   "source": [
    "#导入新户"
   ]
  },
  {
   "cell_type": "code",
   "execution_count": 975,
   "metadata": {},
   "outputs": [],
   "source": [
    "df_new = pd.read_excel('/Users/xl/Downloads/借啊/评分卡/二期评分卡—新户/1106-1118新户.xlsx')"
   ]
  },
  {
   "cell_type": "code",
   "execution_count": 1172,
   "metadata": {},
   "outputs": [],
   "source": [
    "df_check_new = pd.merge(df_check, df_new,left_on = 'risk_order_no',right_on = 'risk_order_no',how = 'inner')\n",
    "df_check_new['YN_date'] = df_check_new['loan_money_date_y'].dt.date"
   ]
  },
  {
   "cell_type": "code",
   "execution_count": 1177,
   "metadata": {},
   "outputs": [
    {
     "data": {
      "text/html": [
       "<div>\n",
       "<style scoped>\n",
       "    .dataframe tbody tr th:only-of-type {\n",
       "        vertical-align: middle;\n",
       "    }\n",
       "\n",
       "    .dataframe tbody tr th {\n",
       "        vertical-align: top;\n",
       "    }\n",
       "\n",
       "    .dataframe thead th {\n",
       "        text-align: right;\n",
       "    }\n",
       "</style>\n",
       "<table border=\"1\" class=\"dataframe\">\n",
       "  <thead>\n",
       "    <tr style=\"text-align: right;\">\n",
       "      <th></th>\n",
       "      <th>status_x</th>\n",
       "      <th>over_due_days</th>\n",
       "      <th>riskOrderNo</th>\n",
       "    </tr>\n",
       "  </thead>\n",
       "  <tbody>\n",
       "    <tr>\n",
       "      <th>0</th>\n",
       "      <td>4.0</td>\n",
       "      <td>0.0</td>\n",
       "      <td>18</td>\n",
       "    </tr>\n",
       "    <tr>\n",
       "      <th>1</th>\n",
       "      <td>6.0</td>\n",
       "      <td>1.0</td>\n",
       "      <td>11</td>\n",
       "    </tr>\n",
       "  </tbody>\n",
       "</table>\n",
       "</div>"
      ],
      "text/plain": [
       "   status_x  over_due_days  riskOrderNo\n",
       "0       4.0            0.0           18\n",
       "1       6.0            1.0           11"
      ]
     },
     "execution_count": 1177,
     "metadata": {},
     "output_type": "execute_result"
    }
   ],
   "source": [
    "# 2018-11-09 新户总体情况\n",
    "\n",
    "d_ck_new = df_check_new[(df_check_new['YN_date'].map(str) =='2018-11-09')]\\\n",
    "[['riskOrderNo','status_x','over_due_days']]\n",
    "\n",
    "d_ck1_new = d_ck_new.groupby(['status_x','over_due_days']).count().reset_index()\n",
    "d_ck1_new"
   ]
  },
  {
   "cell_type": "code",
   "execution_count": 1178,
   "metadata": {},
   "outputs": [
    {
     "data": {
      "text/html": [
       "<div>\n",
       "<style scoped>\n",
       "    .dataframe tbody tr th:only-of-type {\n",
       "        vertical-align: middle;\n",
       "    }\n",
       "\n",
       "    .dataframe tbody tr th {\n",
       "        vertical-align: top;\n",
       "    }\n",
       "\n",
       "    .dataframe thead th {\n",
       "        text-align: right;\n",
       "    }\n",
       "</style>\n",
       "<table border=\"1\" class=\"dataframe\">\n",
       "  <thead>\n",
       "    <tr style=\"text-align: right;\">\n",
       "      <th></th>\n",
       "      <th>status_x</th>\n",
       "      <th>over_due_days</th>\n",
       "      <th>riskOrderNo</th>\n",
       "    </tr>\n",
       "  </thead>\n",
       "  <tbody>\n",
       "    <tr>\n",
       "      <th>0</th>\n",
       "      <td>4.0</td>\n",
       "      <td>0.0</td>\n",
       "      <td>14</td>\n",
       "    </tr>\n",
       "    <tr>\n",
       "      <th>1</th>\n",
       "      <td>6.0</td>\n",
       "      <td>1.0</td>\n",
       "      <td>9</td>\n",
       "    </tr>\n",
       "  </tbody>\n",
       "</table>\n",
       "</div>"
      ],
      "text/plain": [
       "   status_x  over_due_days  riskOrderNo\n",
       "0       4.0            0.0           14\n",
       "1       6.0            1.0            9"
      ]
     },
     "execution_count": 1178,
     "metadata": {},
     "output_type": "execute_result"
    }
   ],
   "source": [
    "# 2018-11-09 新户452情况\n",
    "d_ck_new_452 = df_check_new[(df_check_new['YN_date'].map(str) == '2018-11-09') & (df_check_new['score']>451)&\\\n",
    "                            (df_check_new['借款次数']==1)][['riskOrderNo','status_x','over_due_days']]\n",
    "\n",
    "d_ck1_new_452 = d_ck_new_452.groupby(['status_x','over_due_days']).count().reset_index()\n",
    "d_ck1_new_452"
   ]
  },
  {
   "cell_type": "code",
   "execution_count": 1173,
   "metadata": {},
   "outputs": [
    {
     "data": {
      "text/html": [
       "<div>\n",
       "<style scoped>\n",
       "    .dataframe tbody tr th:only-of-type {\n",
       "        vertical-align: middle;\n",
       "    }\n",
       "\n",
       "    .dataframe tbody tr th {\n",
       "        vertical-align: top;\n",
       "    }\n",
       "\n",
       "    .dataframe thead th {\n",
       "        text-align: right;\n",
       "    }\n",
       "</style>\n",
       "<table border=\"1\" class=\"dataframe\">\n",
       "  <thead>\n",
       "    <tr style=\"text-align: right;\">\n",
       "      <th></th>\n",
       "      <th>status_x</th>\n",
       "      <th>over_due_days</th>\n",
       "      <th>riskOrderNo</th>\n",
       "    </tr>\n",
       "  </thead>\n",
       "  <tbody>\n",
       "    <tr>\n",
       "      <th>0</th>\n",
       "      <td>4.0</td>\n",
       "      <td>0.0</td>\n",
       "      <td>9</td>\n",
       "    </tr>\n",
       "    <tr>\n",
       "      <th>1</th>\n",
       "      <td>4.0</td>\n",
       "      <td>1.0</td>\n",
       "      <td>3</td>\n",
       "    </tr>\n",
       "    <tr>\n",
       "      <th>2</th>\n",
       "      <td>4.0</td>\n",
       "      <td>2.0</td>\n",
       "      <td>2</td>\n",
       "    </tr>\n",
       "    <tr>\n",
       "      <th>3</th>\n",
       "      <td>6.0</td>\n",
       "      <td>3.0</td>\n",
       "      <td>10</td>\n",
       "    </tr>\n",
       "  </tbody>\n",
       "</table>\n",
       "</div>"
      ],
      "text/plain": [
       "   status_x  over_due_days  riskOrderNo\n",
       "0       4.0            0.0            9\n",
       "1       4.0            1.0            3\n",
       "2       4.0            2.0            2\n",
       "3       6.0            3.0           10"
      ]
     },
     "execution_count": 1173,
     "metadata": {},
     "output_type": "execute_result"
    }
   ],
   "source": [
    "# 2018-11-07 新户总体情况\n",
    "d_ck_new = df_check_new[(df_check_new['YN_date'].map(str) =='2018-11-07')&(df_check_new['借款次数']==1)]\\\n",
    "[['riskOrderNo','status_x','over_due_days']]\n",
    "\n",
    "d_ck1_new = d_ck_new.groupby(['status_x','over_due_days']).count().reset_index()\n",
    "d_ck1_new"
   ]
  },
  {
   "cell_type": "code",
   "execution_count": 1174,
   "metadata": {},
   "outputs": [
    {
     "data": {
      "text/html": [
       "<div>\n",
       "<style scoped>\n",
       "    .dataframe tbody tr th:only-of-type {\n",
       "        vertical-align: middle;\n",
       "    }\n",
       "\n",
       "    .dataframe tbody tr th {\n",
       "        vertical-align: top;\n",
       "    }\n",
       "\n",
       "    .dataframe thead th {\n",
       "        text-align: right;\n",
       "    }\n",
       "</style>\n",
       "<table border=\"1\" class=\"dataframe\">\n",
       "  <thead>\n",
       "    <tr style=\"text-align: right;\">\n",
       "      <th></th>\n",
       "      <th>status_x</th>\n",
       "      <th>over_due_days</th>\n",
       "      <th>riskOrderNo</th>\n",
       "    </tr>\n",
       "  </thead>\n",
       "  <tbody>\n",
       "    <tr>\n",
       "      <th>0</th>\n",
       "      <td>4.0</td>\n",
       "      <td>0.0</td>\n",
       "      <td>5</td>\n",
       "    </tr>\n",
       "    <tr>\n",
       "      <th>1</th>\n",
       "      <td>4.0</td>\n",
       "      <td>1.0</td>\n",
       "      <td>3</td>\n",
       "    </tr>\n",
       "    <tr>\n",
       "      <th>2</th>\n",
       "      <td>4.0</td>\n",
       "      <td>2.0</td>\n",
       "      <td>2</td>\n",
       "    </tr>\n",
       "    <tr>\n",
       "      <th>3</th>\n",
       "      <td>6.0</td>\n",
       "      <td>3.0</td>\n",
       "      <td>6</td>\n",
       "    </tr>\n",
       "  </tbody>\n",
       "</table>\n",
       "</div>"
      ],
      "text/plain": [
       "   status_x  over_due_days  riskOrderNo\n",
       "0       4.0            0.0            5\n",
       "1       4.0            1.0            3\n",
       "2       4.0            2.0            2\n",
       "3       6.0            3.0            6"
      ]
     },
     "execution_count": 1174,
     "metadata": {},
     "output_type": "execute_result"
    }
   ],
   "source": [
    "# 2018-11-07 新户452情况\n",
    "d_ck_new_452 = df_check_new[(df_check_new['YN_date'].map(str) == '2018-11-07') & (df_check_new['score']>451)&\\\n",
    "                            (df_check_new['借款次数']==1)][['riskOrderNo','status_x','over_due_days']]\n",
    "\n",
    "d_ck1_new_452 = d_ck_new_452.groupby(['status_x','over_due_days']).count().reset_index()\n",
    "d_ck1_new_452"
   ]
  },
  {
   "cell_type": "code",
   "execution_count": 1112,
   "metadata": {},
   "outputs": [
    {
     "data": {
      "text/html": [
       "<div>\n",
       "<style scoped>\n",
       "    .dataframe tbody tr th:only-of-type {\n",
       "        vertical-align: middle;\n",
       "    }\n",
       "\n",
       "    .dataframe tbody tr th {\n",
       "        vertical-align: top;\n",
       "    }\n",
       "\n",
       "    .dataframe thead th {\n",
       "        text-align: right;\n",
       "    }\n",
       "</style>\n",
       "<table border=\"1\" class=\"dataframe\">\n",
       "  <thead>\n",
       "    <tr style=\"text-align: right;\">\n",
       "      <th></th>\n",
       "      <th>status_x</th>\n",
       "      <th>over_due_days</th>\n",
       "      <th>riskOrderNo</th>\n",
       "    </tr>\n",
       "  </thead>\n",
       "  <tbody>\n",
       "    <tr>\n",
       "      <th>0</th>\n",
       "      <td>4.0</td>\n",
       "      <td>0.0</td>\n",
       "      <td>24</td>\n",
       "    </tr>\n",
       "    <tr>\n",
       "      <th>1</th>\n",
       "      <td>6.0</td>\n",
       "      <td>1.0</td>\n",
       "      <td>23</td>\n",
       "    </tr>\n",
       "  </tbody>\n",
       "</table>\n",
       "</div>"
      ],
      "text/plain": [
       "   status_x  over_due_days  riskOrderNo\n",
       "0       4.0            0.0           24\n",
       "1       6.0            1.0           23"
      ]
     },
     "execution_count": 1112,
     "metadata": {},
     "output_type": "execute_result"
    }
   ],
   "source": [
    "# 2018-11-08 新户总体情况\n",
    "d_ck_new = df_check_new[(df_check_new['YN_date'].map(str) =='2018-11-08')&(df_check_new['借款次数']==1)]\\\n",
    "[['riskOrderNo','status_x','over_due_days']]\n",
    "\n",
    "d_ck1_new = d_ck_new.groupby(['status_x','over_due_days']).count().reset_index()\n",
    "d_ck1_new"
   ]
  },
  {
   "cell_type": "code",
   "execution_count": 1114,
   "metadata": {},
   "outputs": [
    {
     "data": {
      "text/html": [
       "<div>\n",
       "<style scoped>\n",
       "    .dataframe tbody tr th:only-of-type {\n",
       "        vertical-align: middle;\n",
       "    }\n",
       "\n",
       "    .dataframe tbody tr th {\n",
       "        vertical-align: top;\n",
       "    }\n",
       "\n",
       "    .dataframe thead th {\n",
       "        text-align: right;\n",
       "    }\n",
       "</style>\n",
       "<table border=\"1\" class=\"dataframe\">\n",
       "  <thead>\n",
       "    <tr style=\"text-align: right;\">\n",
       "      <th></th>\n",
       "      <th>status_x</th>\n",
       "      <th>over_due_days</th>\n",
       "      <th>riskOrderNo</th>\n",
       "    </tr>\n",
       "  </thead>\n",
       "  <tbody>\n",
       "    <tr>\n",
       "      <th>0</th>\n",
       "      <td>4.0</td>\n",
       "      <td>0.0</td>\n",
       "      <td>13</td>\n",
       "    </tr>\n",
       "    <tr>\n",
       "      <th>1</th>\n",
       "      <td>6.0</td>\n",
       "      <td>1.0</td>\n",
       "      <td>13</td>\n",
       "    </tr>\n",
       "  </tbody>\n",
       "</table>\n",
       "</div>"
      ],
      "text/plain": [
       "   status_x  over_due_days  riskOrderNo\n",
       "0       4.0            0.0           13\n",
       "1       6.0            1.0           13"
      ]
     },
     "execution_count": 1114,
     "metadata": {},
     "output_type": "execute_result"
    }
   ],
   "source": [
    "# 2018-11-08 新户452情况\n",
    "d_ck_new_452 = df_check_new[(df_check_new['YN_date'].map(str) == '2018-11-08') & (df_check_new['score']>451)&\\\n",
    "                            (df_check_new['借款次数']==1)][['riskOrderNo','status_x','over_due_days']]\n",
    "\n",
    "d_ck1_new_452 = d_ck_new_452.groupby(['status_x','over_due_days']).count().reset_index()\n",
    "d_ck1_new_452"
   ]
  },
  {
   "cell_type": "code",
   "execution_count": null,
   "metadata": {},
   "outputs": [],
   "source": []
  }
 ],
 "metadata": {
  "kernelspec": {
   "display_name": "Python 3",
   "language": "python",
   "name": "python3"
  },
  "language_info": {
   "codemirror_mode": {
    "name": "ipython",
    "version": 3
   },
   "file_extension": ".py",
   "mimetype": "text/x-python",
   "name": "python",
   "nbconvert_exporter": "python",
   "pygments_lexer": "ipython3",
   "version": "3.6.4"
  },
  "toc": {
   "base_numbering": 1,
   "nav_menu": {},
   "number_sections": true,
   "sideBar": true,
   "skip_h1_title": false,
   "title_cell": "Table of Contents",
   "title_sidebar": "Contents",
   "toc_cell": false,
   "toc_position": {
    "height": "calc(100% - 180px)",
    "left": "10px",
    "top": "150px",
    "width": "298px"
   },
   "toc_section_display": true,
   "toc_window_display": true
  }
 },
 "nbformat": 4,
 "nbformat_minor": 2
}
